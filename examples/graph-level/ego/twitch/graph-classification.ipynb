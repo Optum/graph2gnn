{
 "cells": [
  {
   "cell_type": "code",
   "execution_count": 1,
   "metadata": {},
   "outputs": [],
   "source": [
    "from graph2gnn import Tiger2GNN\n",
    "import logging, json, os\n",
    "from tqdm import tqdm\n",
    "import numpy as np\n",
    "import pandas as pd\n",
    "from glob import glob\n",
    "from time import perf_counter\n",
    "from collections import defaultdict\n",
    "from tqdm import trange\n",
    "import requests as req\n",
    "import warnings\n",
    "\n",
    "# warnings.filterwarnings(\"ignore\")\n",
    "\n",
    "class Twitch2GNN(Tiger2GNN):\n",
    "    def __init__(self, **kwargs):\n",
    "        super().__init__(**kwargs)\n",
    "\n",
    "    def compute_vectors(self):\n",
    "        vectors = []  # list of (id, vector, label)\n",
    "        intermediate = []\n",
    "        # For each vertex in the query's result set\n",
    "        vert_types = [x for x in glob(f\"{self.output_path}/*.json\")]\n",
    "        print(vert_types)\n",
    "\n",
    "        # for every v_type\n",
    "        for path in vert_types:\n",
    "            columns = [\"id\", \"label\"]\n",
    "            vertex_list = json.load(open(path))\n",
    "            vert_type = path.split(\".json\")[0].split(\"/\")[1]\n",
    "\n",
    "            # for every vertex\n",
    "            for vert in tqdm(vertex_list, desc=vert_type):\n",
    "                features = np.ones((1,))  # feature placeholder. Put your real features here if you have any. This graph has none\n",
    "                intermediate = [vert[\"id\"]]\n",
    "                if vert_type == 'Users':\n",
    "                    label = vert[\"attrs\"][\"label\"]\n",
    "                else:\n",
    "                    label = -1\n",
    "                intermediate.append(label)\n",
    "                intermediate.extend(features)\n",
    "                vectors.append(intermediate.copy())\n",
    "                intermediate.clear()\n",
    "            assert len(vectors) > 0\n",
    "            feature_cols = [f\"feat_{i}\" for i in range(len(features))]\n",
    "            feature_cols = columns + feature_cols\n",
    "            pd.DataFrame(vectors, columns=feature_cols).to_csv(\n",
    "                f\"{self.output_path}/{vert_type}.csv\", index=False\n",
    "            )\n",
    "            vectors.clear()\n",
    "\n",
    "\n",
    "with open('tkn.txt') as fin:\n",
    "\tlines = fin.readlines()\n",
    "\n",
    "tkn = lines[0].replace('\\n','') #restpp token\n",
    "host = lines[1]\n",
    "\n",
    "tg = Twitch2GNN(\n",
    "    host=f\"http://{host}\",\n",
    "    graph_name=\"TwitchEgos\",\n",
    "    query=\"TwitchEgosData\",\n",
    "    token=tkn,\n",
    "    # log_level=logging.INFO\n",
    ")"
   ]
  },
  {
   "cell_type": "code",
   "execution_count": 2,
   "metadata": {},
   "outputs": [
    {
     "name": "stderr",
     "output_type": "stream",
     "text": [
      "  0%|          | 0/10 [00:00<?, ?it/s]\n",
      "100%|██████████| 10/10 [10:26<00:00, 62.69s/it]\n"
     ]
    },
    {
     "name": "stdout",
     "output_type": "stream",
     "text": [
      "['tgresponse/Friends.json', 'tgresponse/Users.json']\n"
     ]
    },
    {
     "name": "stderr",
     "output_type": "stream",
     "text": [
      "Friends: 100%|██████████| 3643987/3643987 [00:07<00:00, 514584.81it/s]\n",
      "Users: 100%|██████████| 127094/127094 [00:00<00:00, 708893.47it/s]\n"
     ]
    }
   ],
   "source": [
    "tg.call_subgraph_query(params={'total_partitions':10})\n",
    "tg.compute_vectors()"
   ]
  },
  {
   "cell_type": "code",
   "execution_count": 3,
   "metadata": {},
   "outputs": [
    {
     "data": {
      "image/png": "[encoded data removed]",
      "text/plain": [
       "<Figure size 432x288 with 1 Axes>"
      ]
     },
     "metadata": {
      "needs_background": "light"
     },
     "output_type": "display_data"
    }
   ],
   "source": [
    "# take a peak at the label distribution\n",
    "from matplotlib import pyplot as plt\n",
    "import pandas as pd\n",
    "\n",
    "stats = pd.read_csv('tgresponse/Users.csv')[['id','label']]\n",
    "stats = stats.loc[stats.label != -1]\n",
    "ax = stats.label.plot.hist(rot=45)#, color=['r','g'])\n",
    "ax.bar_label(ax.containers[0])\n",
    "plt.show()"
   ]
  },
  {
   "cell_type": "code",
   "execution_count": 4,
   "metadata": {},
   "outputs": [
    {
     "name": "stdout",
     "output_type": "stream",
     "text": [
      "tgresponse\n",
      "Mon Oct 24 15:17:49 2022\n"
     ]
    }
   ],
   "source": [
    "# assemble the graphs (using concurrent processing)\n",
    "!python3 assemble_parallel.py $tg.output_path"
   ]
  },
  {
   "cell_type": "code",
   "execution_count": 5,
   "metadata": {},
   "outputs": [
    {
     "name": "stderr",
     "output_type": "stream",
     "text": [
      "/Users/rrossmil/.venv/ml/lib/python3.9/site-packages/tqdm-4.64.1-py3.9.egg/tqdm/auto.py:22: TqdmWarning: IProgress not found. Please update jupyter and ipywidgets. See https://ipywidgets.readthedocs.io/en/stable/user_install.html\n",
      "  from .autonotebook import tqdm as notebook_tqdm\n"
     ]
    }
   ],
   "source": [
    "# DATASET\n",
    "import dgl, torch\n",
    "from dgl.data import DGLDataset\n",
    "\n",
    "\n",
    "class TwitchDataset(DGLDataset):\n",
    "    def __init__(self, **kwargs):\n",
    "        super().__init__(**kwargs)\n",
    "\n",
    "    def __getitem__(self, i):\n",
    "        return self.graphs[i], self.labels[i]\n",
    "\n",
    "    def __len__(self):\n",
    "        return len(self.graphs)\n",
    "\n",
    "    def process(self):\n",
    "        graphs = glob(f\"{tg.output_path}/subgraph/*_vectors.csv\")[:10_000]\n",
    "        self.graphs = []\n",
    "        self.labels = []\n",
    "        self.graph_ids = []\n",
    "\n",
    "        # For each graph ego...\n",
    "        t = tqdm(graphs, desc=\"assemble graphs\")\n",
    "        err = 0\n",
    "        for graph_path in t:\n",
    "            graph_id = graph_path.split(\"/\")[-1].split(\"_\")[\n",
    "                0\n",
    "            ]  # get just the ID part of the file path\n",
    "\n",
    "            # Get the edges\n",
    "            if not os.path.exists(f\"{tg.output_path}/subgraph/{graph_id}_edges.csv\"):\n",
    "                continue\n",
    "            try:\n",
    "                edges_of_subgraph = pd.read_csv(\n",
    "                    f\"{tg.output_path}/subgraph/{graph_id}_edges.csv\"\n",
    "                ).sort_values(by=\"src\")\n",
    "                \n",
    "                dgl_id = {\n",
    "                    k: v\n",
    "                    for v, k in enumerate(\n",
    "                        np.unique(edges_of_subgraph[[\"src\", \"tgt\"]].to_numpy().flatten())\n",
    "                    )\n",
    "                }  # change from tg_vid to dgl 0-based idx\n",
    "                edges_of_subgraph[\"dgl_src\"] = [dgl_id[i] for i in edges_of_subgraph.src]\n",
    "                edges_of_subgraph[\"dgl_tgt\"] = [dgl_id[i] for i in edges_of_subgraph.tgt]\n",
    "                src = edges_of_subgraph[\"dgl_src\"].to_numpy()\n",
    "                dst = edges_of_subgraph[\"dgl_tgt\"].to_numpy()\n",
    "\n",
    "                verts = pd.read_csv(graph_path)\n",
    "                verts = verts.sort_values(by=\"id\")\n",
    "                label = verts.loc[verts.id == int(graph_id)].label.iloc[0]\n",
    "\n",
    "                \n",
    "                assert label is not None\n",
    "                feature_cols = [x for x in verts.columns if \"feat_\" in x]\n",
    "                vertex_vectors = torch.from_numpy(verts[feature_cols].to_numpy())\n",
    "            except:\n",
    "                print(graph_path)\n",
    "                err+=1\n",
    "                print(err)\n",
    "\n",
    "            try:\n",
    "                g = dgl.graph((src, dst), num_nodes=vertex_vectors.shape[0])\n",
    "                g.ndata[\"h\"] = vertex_vectors.float()\n",
    "                g = dgl.add_reverse_edges(g)\n",
    "                g = dgl.add_self_loop(g)\n",
    "                self.graphs.append(g)\n",
    "                self.labels.append(torch.scalar_tensor(label, dtype=torch.float32))\n",
    "                self.graph_ids.append(graph_id)\n",
    "            except Exception as e:\n",
    "                err += 1\n",
    "                t.desc = f\"err: {err}\"\n",
    "                # continue\n",
    "                print(graph_id)\n",
    "                print(verts.shape)\n",
    "                print(len(dgl_id.keys()))\n",
    "                print(len(vertex_vectors))\n",
    "                raise e\n",
    "\n",
    "        # # Convert the label list to tensor for saving.\n",
    "        self.labels = torch.tensor(self.labels)\n"
   ]
  },
  {
   "cell_type": "code",
   "execution_count": 6,
   "metadata": {},
   "outputs": [
    {
     "name": "stderr",
     "output_type": "stream",
     "text": [
      "assemble graphs: 100%|██████████| 10000/10000 [00:00<00:00, 172060.60it/s]\n"
     ]
    },
    {
     "ename": "AssertionError",
     "evalue": "",
     "output_type": "error",
     "traceback": [
      "\u001b[0;31m---------------------------------------------------------------------------\u001b[0m",
      "\u001b[0;31mAssertionError\u001b[0m                            Traceback (most recent call last)",
      "\u001b[1;32m/Users/rrossmil/Documents/personal/graph2gnn/examples/graph-level/ego/twitch/graph-classification.ipynb Cell 6'\u001b[0m in \u001b[0;36m<cell line: 5>\u001b[0;34m()\u001b[0m\n\u001b[1;32m      <a href='vscode-notebook-cell:/Users/rrossmil/Documents/personal/graph2gnn/examples/graph-level/ego/twitch/graph-classification.ipynb#ch0000005?line=2'>3</a>\u001b[0m \u001b[39mtry\u001b[39;00m: dataset\n\u001b[1;32m      <a href='vscode-notebook-cell:/Users/rrossmil/Documents/personal/graph2gnn/examples/graph-level/ego/twitch/graph-classification.ipynb#ch0000005?line=3'>4</a>\u001b[0m \u001b[39mexcept\u001b[39;00m: dataset \u001b[39m=\u001b[39m TwitchDataset(name\u001b[39m=\u001b[39m\u001b[39m\"\u001b[39m\u001b[39mTwitch\u001b[39m\u001b[39m\"\u001b[39m)\n\u001b[0;32m----> <a href='vscode-notebook-cell:/Users/rrossmil/Documents/personal/graph2gnn/examples/graph-level/ego/twitch/graph-classification.ipynb#ch0000005?line=4'>5</a>\u001b[0m \u001b[39massert\u001b[39;00m \u001b[39mlen\u001b[39m(dataset\u001b[39m.\u001b[39mgraph_ids) \u001b[39m>\u001b[39m \u001b[39m0\u001b[39m\n\u001b[1;32m      <a href='vscode-notebook-cell:/Users/rrossmil/Documents/personal/graph2gnn/examples/graph-level/ego/twitch/graph-classification.ipynb#ch0000005?line=5'>6</a>\u001b[0m \u001b[39m# idx = np.random.randint(len(dataset.graph_ids))\u001b[39;00m\n\u001b[1;32m      <a href='vscode-notebook-cell:/Users/rrossmil/Documents/personal/graph2gnn/examples/graph-level/ego/twitch/graph-classification.ipynb#ch0000005?line=6'>7</a>\u001b[0m idx \u001b[39m=\u001b[39m \u001b[39m1\u001b[39m\n",
      "\u001b[0;31mAssertionError\u001b[0m: "
     ]
    }
   ],
   "source": [
    "from matplotlib import pyplot as plt\n",
    "import networkx as nx\n",
    "try: dataset\n",
    "except: dataset = TwitchDataset(name=\"Twitch\")\n",
    "assert len(dataset.graph_ids) > 0\n",
    "# idx = np.random.randint(len(dataset.graph_ids))\n",
    "idx = 1\n",
    "print(f\"idx: {idx}\")\n",
    "g, l = dataset[idx]\n",
    "print(f'graph_id: {dataset.graph_ids[idx]}')\n",
    "print(f'label: {l}')\n",
    "print()\n",
    "plt.figure(figsize=(10, 10))\n",
    "G: nx.Graph = g.to_networkx()\n",
    "print(f'num nodes: {g.num_nodes()}, {G.number_of_nodes()}')\n",
    "self_loops = []\n",
    "for u, v in G.edges():\n",
    "    if u == v:\n",
    "        self_loops.append((u, v))\n",
    "        # G.remove_edge(u,v)\n",
    "G.remove_edges_from(self_loops)\n",
    "nx.draw(G)\n"
   ]
  },
  {
   "cell_type": "code",
   "execution_count": null,
   "metadata": {},
   "outputs": [],
   "source": [
    "from dgl.dataloading import GraphDataLoader\n",
    "from torch.utils.data.sampler import SubsetRandomSampler\n",
    "\n",
    "num_examples = len(dataset)\n",
    "num_train = int(num_examples * 0.8)\n",
    "batch_size = 64\n",
    "\n",
    "train_sampler = SubsetRandomSampler(torch.arange(num_train))\n",
    "test_sampler = SubsetRandomSampler(torch.arange(num_train, num_examples))\n",
    "\n",
    "train_dataloader = GraphDataLoader(\n",
    "    dataset, sampler=train_sampler, batch_size=batch_size, drop_last=False)\n",
    "test_dataloader = GraphDataLoader(\n",
    "    dataset, sampler=test_sampler, batch_size=batch_size, drop_last=False)\n",
    "\n",
    "print(len(train_dataloader))\n",
    "print(len(test_dataloader))\n",
    "next(zip(train_dataloader,test_dataloader))"
   ]
  },
  {
   "cell_type": "code",
   "execution_count": null,
   "metadata": {},
   "outputs": [],
   "source": [
    "import dgl.nn.pytorch as dglnn\n",
    "# import dgl.nn as dglnn\n",
    "import torch.nn as nn\n",
    "import torch.nn.functional as F\n",
    "\n",
    "class TwitchModel(nn.Module):\n",
    "    def __init__(self, in_dim, hidden_dim, n_classes):\n",
    "        super().__init__()\n",
    "        self.conv1 = dglnn.GraphConv(in_dim, hidden_dim)\n",
    "        self.conv2 = dglnn.GraphConv(hidden_dim, n_classes)\n",
    "\n",
    "    def forward(self, g:dgl.DGLGraph, h):\n",
    "        h = self.conv1(g, h)\n",
    "        h = F.relu(h)\n",
    "        h = self.conv2(g, h)\n",
    "        g.ndata['h'] = h\n",
    "        return dgl.mean_nodes(g, 'h')"
   ]
  },
  {
   "cell_type": "code",
   "execution_count": null,
   "metadata": {},
   "outputs": [],
   "source": [
    "import numpy as np\n",
    "\n",
    "\n",
    "def train(tr_dataloader, test_dataloader, model):\n",
    "    learning_rate = 1e-2\n",
    "\n",
    "    optimizer = torch.optim.Adam(\n",
    "        model.parameters(), lr=learning_rate, weight_decay=1e-5\n",
    "    )\n",
    "\n",
    "    history = []\n",
    "    for e in range(5):\n",
    "        t = tqdm(tr_dataloader, unit=\"batch\")\n",
    "        t.desc = f\"Epoch {e}\"\n",
    "        for batched_graph, labels in t:\n",
    "            # Forward\n",
    "            h = batched_graph.ndata[\"h\"]\n",
    "            logits = model(batched_graph, h)\n",
    "            pred = torch.tensor(logits.argmax(1), dtype=torch.float, requires_grad=True)\n",
    "            # pred = logits.argmax(1).to(torch.float)\n",
    "            loss = F.binary_cross_entropy_with_logits(pred, labels)\n",
    "\n",
    "            # Backward\n",
    "            optimizer.zero_grad()\n",
    "            loss.backward()\n",
    "            optimizer.step()\n",
    "\n",
    "            train_acc = (pred == labels).float().mean()\n",
    "            t.set_postfix(acc=train_acc.item())\n",
    "\n",
    "        for batched_graph, labels in test_dataloader:\n",
    "            h = batched_graph.ndata[\"h\"]\n",
    "            logits_test = model(batched_graph, h)\n",
    "            pred_test = torch.tensor(\n",
    "                logits_test.argmax(1), dtype=torch.float, requires_grad=True\n",
    "            )\n",
    "            # pred_test = logits_test.argmax(1).to(torch.float)\n",
    "            test_loss = F.binary_cross_entropy_with_logits(pred_test, labels)\n",
    "            test_acc = (pred_test == labels).float().mean()\n",
    "\n",
    "        history.append(\n",
    "            [train_acc.item(), test_acc.item(), loss.item(), test_loss.item()]\n",
    "        )\n",
    "\n",
    "    return history\n",
    "\n",
    "\n",
    "model = TwitchModel(1, 8, 2)\n",
    "history = train(train_dataloader, test_dataloader, model)\n",
    "import pandas as pd\n",
    "df = pd.DataFrame(history, columns=['train_acc', 'test_acc', 'loss', 'test_loss'])\n",
    "print(df.dtypes)\n",
    "\n",
    "df[['train_acc','test_acc']].plot()\n"
   ]
  },
  {
   "cell_type": "code",
   "execution_count": null,
   "metadata": {},
   "outputs": [],
   "source": [
    "df[['loss','test_loss']].plot()"
   ]
  },
  {
   "cell_type": "code",
   "execution_count": null,
   "metadata": {},
   "outputs": [],
   "source": []
  }
 ],
 "metadata": {
  "kernelspec": {
   "display_name": "Python 3.9.13 64-bit",
   "language": "python",
   "name": "python3"
  },
  "language_info": {
   "codemirror_mode": {
    "name": "ipython",
    "version": 3
   },
   "file_extension": ".py",
   "mimetype": "text/x-python",
   "name": "python",
   "nbconvert_exporter": "python",
   "pygments_lexer": "ipython3",
   "version": "3.9.14"
  },
  "orig_nbformat": 4,
  "vscode": {
   "interpreter": {
    "hash": "dbf23902112f63a418e5641bed0f2752948e7a39f6ebb907d1e9249d165f97b5"
   }
  }
 },
 "nbformat": 4,
 "nbformat_minor": 2
}
