{
 "cells": [
  {
   "cell_type": "code",
   "execution_count": 7,
   "metadata": {},
   "outputs": [
    {
     "name": "stdout",
     "output_type": "stream",
     "text": [
      "Archive:  ../twitch_egos.zip\n",
      "   creating: twitch_egos/\n",
      "  inflating: twitch_egos/README.txt  \n",
      "  inflating: twitch_egos/citing.txt  \n",
      "  inflating: twitch_egos/twitch_target.csv  \n",
      "  inflating: twitch_egos/twitch_edges.json  \n"
     ]
    }
   ],
   "source": [
    "import os\n",
    "if not os.path.isdir(\"twitch_egos\"):\n",
    "    os.system(\"unzip ../twitch_egos.zip\")"
   ]
  },
  {
   "cell_type": "code",
   "execution_count": 8,
   "metadata": {},
   "outputs": [
    {
     "data": {
      "text/html": [
       "<div>\n",
       "<style scoped>\n",
       "    .dataframe tbody tr th:only-of-type {\n",
       "        vertical-align: middle;\n",
       "    }\n",
       "\n",
       "    .dataframe tbody tr th {\n",
       "        vertical-align: top;\n",
       "    }\n",
       "\n",
       "    .dataframe thead th {\n",
       "        text-align: right;\n",
       "    }\n",
       "</style>\n",
       "<table border=\"1\" class=\"dataframe\">\n",
       "  <thead>\n",
       "    <tr style=\"text-align: right;\">\n",
       "      <th></th>\n",
       "      <th>id</th>\n",
       "      <th>target</th>\n",
       "    </tr>\n",
       "  </thead>\n",
       "  <tbody>\n",
       "    <tr>\n",
       "      <th>0</th>\n",
       "      <td>0</td>\n",
       "      <td>0</td>\n",
       "    </tr>\n",
       "    <tr>\n",
       "      <th>1</th>\n",
       "      <td>1</td>\n",
       "      <td>0</td>\n",
       "    </tr>\n",
       "    <tr>\n",
       "      <th>2</th>\n",
       "      <td>2</td>\n",
       "      <td>0</td>\n",
       "    </tr>\n",
       "    <tr>\n",
       "      <th>3</th>\n",
       "      <td>3</td>\n",
       "      <td>1</td>\n",
       "    </tr>\n",
       "    <tr>\n",
       "      <th>4</th>\n",
       "      <td>4</td>\n",
       "      <td>0</td>\n",
       "    </tr>\n",
       "    <tr>\n",
       "      <th>...</th>\n",
       "      <td>...</td>\n",
       "      <td>...</td>\n",
       "    </tr>\n",
       "    <tr>\n",
       "      <th>127089</th>\n",
       "      <td>127089</td>\n",
       "      <td>1</td>\n",
       "    </tr>\n",
       "    <tr>\n",
       "      <th>127090</th>\n",
       "      <td>127090</td>\n",
       "      <td>1</td>\n",
       "    </tr>\n",
       "    <tr>\n",
       "      <th>127091</th>\n",
       "      <td>127091</td>\n",
       "      <td>1</td>\n",
       "    </tr>\n",
       "    <tr>\n",
       "      <th>127092</th>\n",
       "      <td>127092</td>\n",
       "      <td>1</td>\n",
       "    </tr>\n",
       "    <tr>\n",
       "      <th>127093</th>\n",
       "      <td>127093</td>\n",
       "      <td>1</td>\n",
       "    </tr>\n",
       "  </tbody>\n",
       "</table>\n",
       "<p>127094 rows × 2 columns</p>\n",
       "</div>"
      ],
      "text/plain": [
       "            id  target\n",
       "0            0       0\n",
       "1            1       0\n",
       "2            2       0\n",
       "3            3       1\n",
       "4            4       0\n",
       "...        ...     ...\n",
       "127089  127089       1\n",
       "127090  127090       1\n",
       "127091  127091       1\n",
       "127092  127092       1\n",
       "127093  127093       1\n",
       "\n",
       "[127094 rows x 2 columns]"
      ]
     },
     "execution_count": 8,
     "metadata": {},
     "output_type": "execute_result"
    }
   ],
   "source": [
    "import json\n",
    "from tqdm import tqdm\n",
    "import pandas as pd\n",
    "import numpy as np\n",
    "\n",
    "with open(\"twitch_egos/twitch_edges.json\") as fin:\n",
    "    edges_in: dict = json.load(fin)\n",
    "label_df = pd.read_csv(\"twitch_egos/twitch_target.csv\")\n",
    "label_df\n"
   ]
  },
  {
   "cell_type": "code",
   "execution_count": 9,
   "metadata": {},
   "outputs": [
    {
     "name": "stderr",
     "output_type": "stream",
     "text": [
      "100%|██████████| 127094/127094 [00:08<00:00, 15369.29it/s]\n"
     ]
    },
    {
     "name": "stdout",
     "output_type": "stream",
     "text": [
      "len(labels)= 127094\n",
      "len(labels)==len(users) = True\n",
      "127094\n",
      "[[35, 0], [35, 1], [35, 2], [35, 3], [35, 4]] [[3771070, 3771078], [3771068, 3771078], [3771066, 3771078], [3771058, 3771079], [3771069, 3771079]]\n"
     ]
    },
    {
     "data": {
      "text/plain": [
       "([35, 76, 108, 146, 168], [3770960, 3770995, 3771036, 3771055, 3771080])"
      ]
     },
     "execution_count": 9,
     "metadata": {},
     "output_type": "execute_result"
    }
   ],
   "source": [
    "# put all the edges of separate graphs into one graph\n",
    "edges = []\n",
    "users = []\n",
    "friends = []\n",
    "labels = []\n",
    "d_type = {}\n",
    "offset = 0\n",
    "max_id = -1\n",
    "for k, v in tqdm(edges_in.items()):\n",
    "    for e in v:\n",
    "        e[0] += offset\n",
    "        e[1] += offset\n",
    "        max_id = max([max_id, e[0], e[1]])\n",
    "    offset = max_id + 1\n",
    "    edges.extend(v)\n",
    "    current_verts = list(dict.fromkeys([l for x in v for l in x]))\n",
    "    users.append(current_verts[0])\n",
    "    labels.append(label_df.iloc[int(k)].target)\n",
    "    friends.extend(current_verts[1:])\n",
    "\n",
    "d_type.update({k:'User' for k in users})\n",
    "d_type.update({k:\"Friend\" for k in friends})\n",
    "print(f\"{len(labels)= }\")\n",
    "print(f\"{len(labels)==len(users) = }\")\n",
    "print(len(users))\n",
    "print(edges[:5], edges[-5:])\n",
    "users[:5], users[-5:]\n"
   ]
  },
  {
   "cell_type": "code",
   "execution_count": 10,
   "metadata": {},
   "outputs": [
    {
     "name": "stdout",
     "output_type": "stream",
     "text": [
      "0 35\n"
     ]
    }
   ],
   "source": [
    "print(friends[0], users[0])\n",
    "assert d_type[friends[0]] == \"Friend\"\n",
    "assert d_type[users[0]] == \"User\""
   ]
  },
  {
   "cell_type": "code",
   "execution_count": 11,
   "metadata": {},
   "outputs": [
    {
     "name": "stderr",
     "output_type": "stream",
     "text": [
      "100%|██████████| 18367047/18367047 [00:24<00:00, 758555.94it/s] \n"
     ]
    },
    {
     "data": {
      "text/plain": [
       "([[35, 'User', 0, 'Friend'],\n",
       "  [35, 'User', 1, 'Friend'],\n",
       "  [35, 'User', 2, 'Friend']],\n",
       " [[3771066, 'Friend', 3771078, 'Friend'],\n",
       "  [3771058, 'Friend', 3771079, 'Friend'],\n",
       "  [3771069, 'Friend', 3771079, 'Friend']])"
      ]
     },
     "execution_count": 11,
     "metadata": {},
     "output_type": "execute_result"
    }
   ],
   "source": [
    "edges_typed = []\n",
    "for e in tqdm(edges):\n",
    "    edges_typed.append([e[0],d_type[e[0]],e[1],d_type[e[1]]])\n",
    "edges_typed[:3], edges_typed[-3:]"
   ]
  },
  {
   "cell_type": "code",
   "execution_count": 12,
   "metadata": {},
   "outputs": [],
   "source": [
    "assert len(users) == 127_094\n",
    "assert len(friends) + 127_094 == 3_771_081, len(friends)+ len(users)\n",
    "assert len(edges_typed) == 18_367_047, len(edges_typed)\n"
   ]
  },
  {
   "cell_type": "code",
   "execution_count": 13,
   "metadata": {},
   "outputs": [
    {
     "name": "stdout",
     "output_type": "stream",
     "text": [
      "(127094, 2)\n"
     ]
    },
    {
     "data": {
      "text/html": [
       "<div>\n",
       "<style scoped>\n",
       "    .dataframe tbody tr th:only-of-type {\n",
       "        vertical-align: middle;\n",
       "    }\n",
       "\n",
       "    .dataframe tbody tr th {\n",
       "        vertical-align: top;\n",
       "    }\n",
       "\n",
       "    .dataframe thead th {\n",
       "        text-align: right;\n",
       "    }\n",
       "</style>\n",
       "<table border=\"1\" class=\"dataframe\">\n",
       "  <thead>\n",
       "    <tr style=\"text-align: right;\">\n",
       "      <th></th>\n",
       "      <th>id</th>\n",
       "      <th>label</th>\n",
       "    </tr>\n",
       "  </thead>\n",
       "  <tbody>\n",
       "    <tr>\n",
       "      <th>0</th>\n",
       "      <td>35</td>\n",
       "      <td>0</td>\n",
       "    </tr>\n",
       "    <tr>\n",
       "      <th>1</th>\n",
       "      <td>76</td>\n",
       "      <td>0</td>\n",
       "    </tr>\n",
       "    <tr>\n",
       "      <th>2</th>\n",
       "      <td>108</td>\n",
       "      <td>0</td>\n",
       "    </tr>\n",
       "    <tr>\n",
       "      <th>3</th>\n",
       "      <td>146</td>\n",
       "      <td>1</td>\n",
       "    </tr>\n",
       "    <tr>\n",
       "      <th>4</th>\n",
       "      <td>168</td>\n",
       "      <td>0</td>\n",
       "    </tr>\n",
       "    <tr>\n",
       "      <th>...</th>\n",
       "      <td>...</td>\n",
       "      <td>...</td>\n",
       "    </tr>\n",
       "    <tr>\n",
       "      <th>127089</th>\n",
       "      <td>3770960</td>\n",
       "      <td>1</td>\n",
       "    </tr>\n",
       "    <tr>\n",
       "      <th>127090</th>\n",
       "      <td>3770995</td>\n",
       "      <td>1</td>\n",
       "    </tr>\n",
       "    <tr>\n",
       "      <th>127091</th>\n",
       "      <td>3771036</td>\n",
       "      <td>1</td>\n",
       "    </tr>\n",
       "    <tr>\n",
       "      <th>127092</th>\n",
       "      <td>3771055</td>\n",
       "      <td>1</td>\n",
       "    </tr>\n",
       "    <tr>\n",
       "      <th>127093</th>\n",
       "      <td>3771080</td>\n",
       "      <td>1</td>\n",
       "    </tr>\n",
       "  </tbody>\n",
       "</table>\n",
       "<p>127094 rows × 2 columns</p>\n",
       "</div>"
      ],
      "text/plain": [
       "             id  label\n",
       "0            35      0\n",
       "1            76      0\n",
       "2           108      0\n",
       "3           146      1\n",
       "4           168      0\n",
       "...         ...    ...\n",
       "127089  3770960      1\n",
       "127090  3770995      1\n",
       "127091  3771036      1\n",
       "127092  3771055      1\n",
       "127093  3771080      1\n",
       "\n",
       "[127094 rows x 2 columns]"
      ]
     },
     "execution_count": 13,
     "metadata": {},
     "output_type": "execute_result"
    }
   ],
   "source": [
    "df = pd.DataFrame({\"id\": users, \"label\":labels})\n",
    "df = df.astype(int)\n",
    "df.to_csv(\"twitch_egos/Twitch_users.csv\", index=False)\n",
    "print(df.shape)\n",
    "df\n"
   ]
  },
  {
   "cell_type": "code",
   "execution_count": 14,
   "metadata": {},
   "outputs": [
    {
     "name": "stdout",
     "output_type": "stream",
     "text": [
      "(3643987, 1)\n"
     ]
    },
    {
     "data": {
      "text/html": [
       "<div>\n",
       "<style scoped>\n",
       "    .dataframe tbody tr th:only-of-type {\n",
       "        vertical-align: middle;\n",
       "    }\n",
       "\n",
       "    .dataframe tbody tr th {\n",
       "        vertical-align: top;\n",
       "    }\n",
       "\n",
       "    .dataframe thead th {\n",
       "        text-align: right;\n",
       "    }\n",
       "</style>\n",
       "<table border=\"1\" class=\"dataframe\">\n",
       "  <thead>\n",
       "    <tr style=\"text-align: right;\">\n",
       "      <th></th>\n",
       "      <th>id</th>\n",
       "    </tr>\n",
       "  </thead>\n",
       "  <tbody>\n",
       "    <tr>\n",
       "      <th>0</th>\n",
       "      <td>0</td>\n",
       "    </tr>\n",
       "    <tr>\n",
       "      <th>1</th>\n",
       "      <td>1</td>\n",
       "    </tr>\n",
       "    <tr>\n",
       "      <th>2</th>\n",
       "      <td>2</td>\n",
       "    </tr>\n",
       "    <tr>\n",
       "      <th>3</th>\n",
       "      <td>3</td>\n",
       "    </tr>\n",
       "    <tr>\n",
       "      <th>4</th>\n",
       "      <td>4</td>\n",
       "    </tr>\n",
       "    <tr>\n",
       "      <th>...</th>\n",
       "      <td>...</td>\n",
       "    </tr>\n",
       "    <tr>\n",
       "      <th>3643982</th>\n",
       "      <td>3771075</td>\n",
       "    </tr>\n",
       "    <tr>\n",
       "      <th>3643983</th>\n",
       "      <td>3771076</td>\n",
       "    </tr>\n",
       "    <tr>\n",
       "      <th>3643984</th>\n",
       "      <td>3771077</td>\n",
       "    </tr>\n",
       "    <tr>\n",
       "      <th>3643985</th>\n",
       "      <td>3771078</td>\n",
       "    </tr>\n",
       "    <tr>\n",
       "      <th>3643986</th>\n",
       "      <td>3771079</td>\n",
       "    </tr>\n",
       "  </tbody>\n",
       "</table>\n",
       "<p>3643987 rows × 1 columns</p>\n",
       "</div>"
      ],
      "text/plain": [
       "              id\n",
       "0              0\n",
       "1              1\n",
       "2              2\n",
       "3              3\n",
       "4              4\n",
       "...          ...\n",
       "3643982  3771075\n",
       "3643983  3771076\n",
       "3643984  3771077\n",
       "3643985  3771078\n",
       "3643986  3771079\n",
       "\n",
       "[3643987 rows x 1 columns]"
      ]
     },
     "execution_count": 14,
     "metadata": {},
     "output_type": "execute_result"
    }
   ],
   "source": [
    "df = pd.DataFrame({\"id\": friends})\n",
    "df = df.astype(int)\n",
    "df.to_csv(\"twitch_egos/Twitch_friends.csv\", index=False)\n",
    "print(df.shape)\n",
    "df\n"
   ]
  },
  {
   "cell_type": "code",
   "execution_count": 15,
   "metadata": {},
   "outputs": [
    {
     "data": {
      "text/html": [
       "<div>\n",
       "<style scoped>\n",
       "    .dataframe tbody tr th:only-of-type {\n",
       "        vertical-align: middle;\n",
       "    }\n",
       "\n",
       "    .dataframe tbody tr th {\n",
       "        vertical-align: top;\n",
       "    }\n",
       "\n",
       "    .dataframe thead th {\n",
       "        text-align: right;\n",
       "    }\n",
       "</style>\n",
       "<table border=\"1\" class=\"dataframe\">\n",
       "  <thead>\n",
       "    <tr style=\"text-align: right;\">\n",
       "      <th></th>\n",
       "      <th>src</th>\n",
       "      <th>src_type</th>\n",
       "      <th>tgt</th>\n",
       "      <th>tgt_type</th>\n",
       "    </tr>\n",
       "  </thead>\n",
       "  <tbody>\n",
       "    <tr>\n",
       "      <th>0</th>\n",
       "      <td>35</td>\n",
       "      <td>User</td>\n",
       "      <td>0</td>\n",
       "      <td>Friend</td>\n",
       "    </tr>\n",
       "    <tr>\n",
       "      <th>1</th>\n",
       "      <td>35</td>\n",
       "      <td>User</td>\n",
       "      <td>1</td>\n",
       "      <td>Friend</td>\n",
       "    </tr>\n",
       "    <tr>\n",
       "      <th>2</th>\n",
       "      <td>35</td>\n",
       "      <td>User</td>\n",
       "      <td>2</td>\n",
       "      <td>Friend</td>\n",
       "    </tr>\n",
       "    <tr>\n",
       "      <th>3</th>\n",
       "      <td>35</td>\n",
       "      <td>User</td>\n",
       "      <td>3</td>\n",
       "      <td>Friend</td>\n",
       "    </tr>\n",
       "    <tr>\n",
       "      <th>4</th>\n",
       "      <td>35</td>\n",
       "      <td>User</td>\n",
       "      <td>4</td>\n",
       "      <td>Friend</td>\n",
       "    </tr>\n",
       "    <tr>\n",
       "      <th>...</th>\n",
       "      <td>...</td>\n",
       "      <td>...</td>\n",
       "      <td>...</td>\n",
       "      <td>...</td>\n",
       "    </tr>\n",
       "    <tr>\n",
       "      <th>18367042</th>\n",
       "      <td>3771070</td>\n",
       "      <td>Friend</td>\n",
       "      <td>3771078</td>\n",
       "      <td>Friend</td>\n",
       "    </tr>\n",
       "    <tr>\n",
       "      <th>18367043</th>\n",
       "      <td>3771068</td>\n",
       "      <td>Friend</td>\n",
       "      <td>3771078</td>\n",
       "      <td>Friend</td>\n",
       "    </tr>\n",
       "    <tr>\n",
       "      <th>18367044</th>\n",
       "      <td>3771066</td>\n",
       "      <td>Friend</td>\n",
       "      <td>3771078</td>\n",
       "      <td>Friend</td>\n",
       "    </tr>\n",
       "    <tr>\n",
       "      <th>18367045</th>\n",
       "      <td>3771058</td>\n",
       "      <td>Friend</td>\n",
       "      <td>3771079</td>\n",
       "      <td>Friend</td>\n",
       "    </tr>\n",
       "    <tr>\n",
       "      <th>18367046</th>\n",
       "      <td>3771069</td>\n",
       "      <td>Friend</td>\n",
       "      <td>3771079</td>\n",
       "      <td>Friend</td>\n",
       "    </tr>\n",
       "  </tbody>\n",
       "</table>\n",
       "<p>18367047 rows × 4 columns</p>\n",
       "</div>"
      ],
      "text/plain": [
       "              src src_type      tgt tgt_type\n",
       "0              35     User        0   Friend\n",
       "1              35     User        1   Friend\n",
       "2              35     User        2   Friend\n",
       "3              35     User        3   Friend\n",
       "4              35     User        4   Friend\n",
       "...           ...      ...      ...      ...\n",
       "18367042  3771070   Friend  3771078   Friend\n",
       "18367043  3771068   Friend  3771078   Friend\n",
       "18367044  3771066   Friend  3771078   Friend\n",
       "18367045  3771058   Friend  3771079   Friend\n",
       "18367046  3771069   Friend  3771079   Friend\n",
       "\n",
       "[18367047 rows x 4 columns]"
      ]
     },
     "execution_count": 15,
     "metadata": {},
     "output_type": "execute_result"
    }
   ],
   "source": [
    "edges = np.array(edges_typed)\n",
    "edf = pd.DataFrame({\"src\": edges[:, 0], \"src_type\":edges[:,1], \"tgt\": edges[:, 2], \"tgt_type\":edges[:,3]})\n",
    "edf.to_csv(\"twitch_egos/Twitch_edges.csv\", index=False)\n",
    "edf\n"
   ]
  },
  {
   "cell_type": "code",
   "execution_count": 18,
   "metadata": {},
   "outputs": [
    {
     "name": "stdout",
     "output_type": "stream",
     "text": [
      "*******************************************************************************\n",
      "*                                                                             *\n",
      "*  This is a private computer system containing confidential information.     *\n",
      "*  Any unauthorized attempt to access or use this computer system or any      *\n",
      "*  information on it by employees or other persons may result in termination  *\n",
      "*  of employment, civil fines, and criminal penalties.  This system must be   *\n",
      "*  used for authorized business purposes only.                                *\n",
      "*                                                                             *\n",
      "*******************************************************************************\n",
      "Twitch_users.csv                              100% 1205KB   1.1MB/s   00:01    \n",
      "*******************************************************************************\n",
      "*                                                                             *\n",
      "*  This is a private computer system containing confidential information.     *\n",
      "*  Any unauthorized attempt to access or use this computer system or any      *\n",
      "*  information on it by employees or other persons may result in termination  *\n",
      "*  of employment, civil fines, and criminal penalties.  This system must be   *\n",
      "*  used for authorized business purposes only.                                *\n",
      "*                                                                             *\n",
      "*******************************************************************************\n",
      "Twitch_friends.csv                            100%   27MB   1.2MB/s   00:22    \n",
      "*******************************************************************************\n",
      "*                                                                             *\n",
      "*  This is a private computer system containing confidential information.     *\n",
      "*  Any unauthorized attempt to access or use this computer system or any      *\n",
      "*  information on it by employees or other persons may result in termination  *\n",
      "*  of employment, civil fines, and criminal penalties.  This system must be   *\n",
      "*  used for authorized business purposes only.                                *\n",
      "*                                                                             *\n",
      "*******************************************************************************\n",
      "Twitch_edges.csv                              100%  508MB   1.2MB/s   07:14    \n"
     ]
    }
   ],
   "source": [
    "vm_name = input('Where is the data going? > ')\n",
    "pth = input('path to the data dir')\n",
    "!scp twitch_egos/Twitch_users.csv $vm_name:$pth\n",
    "!scp twitch_egos/Twitch_friends.csv $vm_name:$pth\n",
    "!scp twitch_egos/Twitch_edges.csv $vm_name:$pth"
   ]
  },
  {
   "cell_type": "code",
   "execution_count": null,
   "metadata": {},
   "outputs": [],
   "source": []
  }
 ],
 "metadata": {
  "kernelspec": {
   "display_name": "Python 3.9.13 64-bit",
   "language": "python",
   "name": "python3"
  },
  "language_info": {
   "codemirror_mode": {
    "name": "ipython",
    "version": 3
   },
   "file_extension": ".py",
   "mimetype": "text/x-python",
   "name": "python",
   "nbconvert_exporter": "python",
   "pygments_lexer": "ipython3",
   "version": "3.9.14"
  },
  "orig_nbformat": 4,
  "vscode": {
   "interpreter": {
    "hash": "dbf23902112f63a418e5641bed0f2752948e7a39f6ebb907d1e9249d165f97b5"
   }
  }
 },
 "nbformat": 4,
 "nbformat_minor": 2
}
