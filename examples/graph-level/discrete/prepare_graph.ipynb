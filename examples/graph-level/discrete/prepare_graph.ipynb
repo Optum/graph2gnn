{
 "cells": [
  {
   "cell_type": "code",
   "execution_count": 1,
   "metadata": {},
   "outputs": [
    {
     "name": "stderr",
     "output_type": "stream",
     "text": [
      "Using backend: pytorch\n"
     ]
    },
    {
     "data": {
      "text/plain": [
       "(Graph(num_nodes=5, num_edges=25,\n",
       "       ndata_schemes={}\n",
       "       edata_schemes={'h': Scheme(shape=(1,), dtype=torch.float32)}),\n",
       " tensor([-4.2093e+02,  3.9695e+01,  6.2184e-01, -1.6013e+01,  4.1620e+00,\n",
       "          3.6768e+01,  1.5725e+01, -3.9861e+00, -1.0949e+01,  1.3230e-01,\n",
       "         -1.4134e+01,  1.0870e+00,  2.5346e+00,  2.4322e+00]))"
      ]
     },
     "execution_count": 1,
     "metadata": {},
     "output_type": "execute_result"
    }
   ],
   "source": [
    "from dgl.data import  QM7bDataset\n",
    "import networkx as nx\n",
    "import dgl\n",
    "dataset = QM7bDataset()\n",
    "graphs, labels = dataset[:2]\n",
    "graphs[0], labels[0]"
   ]
  },
  {
   "cell_type": "code",
   "execution_count": 2,
   "metadata": {},
   "outputs": [
    {
     "data": {
      "text/plain": [
       "array([-4.2093375e+02,  3.9694626e+01,  6.2184143e-01, -1.6013000e+01,\n",
       "        4.1620002e+00,  3.6768074e+01,  1.5725230e+01, -3.9861300e+00,\n",
       "       -1.0948800e+01,  1.3230000e-01, -1.4134100e+01,  1.0870000e+00,\n",
       "        2.5345759e+00,  2.4322200e+00], dtype=float32)"
      ]
     },
     "execution_count": 2,
     "metadata": {},
     "output_type": "execute_result"
    }
   ],
   "source": [
    "dataset[0][1].numpy()"
   ]
  },
  {
   "cell_type": "code",
   "execution_count": 3,
   "metadata": {},
   "outputs": [
    {
     "data": {
      "image/png": "[encoded data removed]",
      "text/plain": [
       "<Figure size 432x288 with 1 Axes>"
      ]
     },
     "metadata": {},
     "output_type": "display_data"
    }
   ],
   "source": [
    "G = nx.disjoint_union_all([g.to_networkx() for g in graphs])\n",
    "nx.draw(G)"
   ]
  },
  {
   "cell_type": "code",
   "execution_count": 4,
   "metadata": {},
   "outputs": [
    {
     "data": {
      "text/html": [
       "<div>\n",
       "<style scoped>\n",
       "    .dataframe tbody tr th:only-of-type {\n",
       "        vertical-align: middle;\n",
       "    }\n",
       "\n",
       "    .dataframe tbody tr th {\n",
       "        vertical-align: top;\n",
       "    }\n",
       "\n",
       "    .dataframe thead th {\n",
       "        text-align: right;\n",
       "    }\n",
       "</style>\n",
       "<table border=\"1\" class=\"dataframe\">\n",
       "  <thead>\n",
       "    <tr style=\"text-align: right;\">\n",
       "      <th></th>\n",
       "      <th>src</th>\n",
       "      <th>tgt</th>\n",
       "      <th>h</th>\n",
       "    </tr>\n",
       "  </thead>\n",
       "  <tbody>\n",
       "    <tr>\n",
       "      <th>0</th>\n",
       "      <td>0</td>\n",
       "      <td>0</td>\n",
       "      <td>36.858105</td>\n",
       "    </tr>\n",
       "    <tr>\n",
       "      <th>1</th>\n",
       "      <td>0</td>\n",
       "      <td>1</td>\n",
       "      <td>2.896123</td>\n",
       "    </tr>\n",
       "    <tr>\n",
       "      <th>2</th>\n",
       "      <td>0</td>\n",
       "      <td>2</td>\n",
       "      <td>2.896139</td>\n",
       "    </tr>\n",
       "    <tr>\n",
       "      <th>3</th>\n",
       "      <td>0</td>\n",
       "      <td>3</td>\n",
       "      <td>2.896083</td>\n",
       "    </tr>\n",
       "    <tr>\n",
       "      <th>4</th>\n",
       "      <td>0</td>\n",
       "      <td>4</td>\n",
       "      <td>2.896124</td>\n",
       "    </tr>\n",
       "    <tr>\n",
       "      <th>...</th>\n",
       "      <td>...</td>\n",
       "      <td>...</td>\n",
       "      <td>...</td>\n",
       "    </tr>\n",
       "    <tr>\n",
       "      <th>1766361</th>\n",
       "      <td>111179</td>\n",
       "      <td>111175</td>\n",
       "      <td>7.897262</td>\n",
       "    </tr>\n",
       "    <tr>\n",
       "      <th>1766362</th>\n",
       "      <td>111179</td>\n",
       "      <td>111176</td>\n",
       "      <td>16.271027</td>\n",
       "    </tr>\n",
       "    <tr>\n",
       "      <th>1766363</th>\n",
       "      <td>111179</td>\n",
       "      <td>111177</td>\n",
       "      <td>1.774575</td>\n",
       "    </tr>\n",
       "    <tr>\n",
       "      <th>1766364</th>\n",
       "      <td>111179</td>\n",
       "      <td>111178</td>\n",
       "      <td>1.092664</td>\n",
       "    </tr>\n",
       "    <tr>\n",
       "      <th>1766365</th>\n",
       "      <td>111179</td>\n",
       "      <td>111179</td>\n",
       "      <td>53.358707</td>\n",
       "    </tr>\n",
       "  </tbody>\n",
       "</table>\n",
       "<p>1766366 rows × 3 columns</p>\n",
       "</div>"
      ],
      "text/plain": [
       "            src     tgt          h\n",
       "0             0       0  36.858105\n",
       "1             0       1   2.896123\n",
       "2             0       2   2.896139\n",
       "3             0       3   2.896083\n",
       "4             0       4   2.896124\n",
       "...         ...     ...        ...\n",
       "1766361  111179  111175   7.897262\n",
       "1766362  111179  111176  16.271027\n",
       "1766363  111179  111177   1.774575\n",
       "1766364  111179  111178   1.092664\n",
       "1766365  111179  111179  53.358707\n",
       "\n",
       "[1766366 rows x 3 columns]"
      ]
     },
     "execution_count": 4,
     "metadata": {},
     "output_type": "execute_result"
    }
   ],
   "source": [
    "import pandas as pd\n",
    "from dgl.data import QM7bDataset\n",
    "import networkx as nx\n",
    "import dgl, tqdm\n",
    "import numpy as np\n",
    "dataset = QM7bDataset()\n",
    "\n",
    "edges_s = []\n",
    "edges_t = []\n",
    "edge_data = []\n",
    "graph_id = []\n",
    "verts = []\n",
    "labels = []\n",
    "adjust = 0\n",
    "for i in range(len(dataset)):\n",
    "\tg,l = dataset[i]\n",
    "\tif i>0:\n",
    "\t\tadjust += dataset[i-1][0].num_nodes()\n",
    "\t\n",
    "\n",
    "\tverts.extend(g.nodes().numpy() + adjust)\n",
    "\tlabels.append('|'.join(str(x) for x in l.numpy()))\n",
    "\tlabels.extend(['']*(g.num_nodes()-1))\n",
    "\tgraph_id.extend([i]*g.nodes().shape[0])\n",
    "\tedges_s.extend(g.edges()[0].numpy() + adjust)\n",
    "\tedges_t.extend(g.edges()[1].numpy()+ adjust)\n",
    "\th = g.edata['h'].numpy()[:,0]\n",
    "\tedge_data.extend(h)\n",
    "\n",
    "verts_df = pd.DataFrame({'id': verts,'graph_id':graph_id,'label':labels})\t\n",
    "edges_df = pd.DataFrame({'src': edges_s, 'tgt': edges_t, 'h':edge_data})#,'graph_id':graph_id})\n",
    "verts_df.to_csv('data/QM7B_vertices.csv', index=False)\n",
    "edges_df.to_csv('data/QM7B_edges.csv', index=False)\n",
    "edges_df"
   ]
  },
  {
   "cell_type": "code",
   "execution_count": 5,
   "metadata": {},
   "outputs": [
    {
     "name": "stdout",
     "output_type": "stream",
     "text": [
      "   id  graph_id                                              label\n",
      "0   0         0  -420.93375|39.694626|0.62184143|-16.013|4.162|...\n",
      "1   1         0                                                   \n",
      "2   2         0                                                   \n",
      "3   3         0                                                   \n",
      "4   4         0                                                   \n"
     ]
    },
    {
     "data": {
      "text/html": [
       "<div>\n",
       "<style scoped>\n",
       "    .dataframe tbody tr th:only-of-type {\n",
       "        vertical-align: middle;\n",
       "    }\n",
       "\n",
       "    .dataframe tbody tr th {\n",
       "        vertical-align: top;\n",
       "    }\n",
       "\n",
       "    .dataframe thead th {\n",
       "        text-align: right;\n",
       "    }\n",
       "</style>\n",
       "<table border=\"1\" class=\"dataframe\">\n",
       "  <thead>\n",
       "    <tr style=\"text-align: right;\">\n",
       "      <th></th>\n",
       "      <th>id</th>\n",
       "      <th>graph_id</th>\n",
       "      <th>label</th>\n",
       "    </tr>\n",
       "  </thead>\n",
       "  <tbody>\n",
       "    <tr>\n",
       "      <th>0</th>\n",
       "      <td>0</td>\n",
       "      <td>0</td>\n",
       "      <td>-420.93375|39.694626|0.62184143|-16.013|4.162|...</td>\n",
       "    </tr>\n",
       "    <tr>\n",
       "      <th>5</th>\n",
       "      <td>5</td>\n",
       "      <td>1</td>\n",
       "      <td>-718.4192|22.622486|0.62832844|-13.549|3.684|1...</td>\n",
       "    </tr>\n",
       "    <tr>\n",
       "      <th>13</th>\n",
       "      <td>13</td>\n",
       "      <td>2</td>\n",
       "      <td>-570.02484|22.94067|0.7090596|-10.16|1.231|7.1...</td>\n",
       "    </tr>\n",
       "    <tr>\n",
       "      <th>19</th>\n",
       "      <td>19</td>\n",
       "      <td>3</td>\n",
       "      <td>-410.28616|15.973799|2.2284796|-10.706|2.145|4...</td>\n",
       "    </tr>\n",
       "    <tr>\n",
       "      <th>23</th>\n",
       "      <td>23</td>\n",
       "      <td>4</td>\n",
       "      <td>-868.8554|17.900517|0.5561737|-12.365|3.825|10...</td>\n",
       "    </tr>\n",
       "    <tr>\n",
       "      <th>...</th>\n",
       "      <td>...</td>\n",
       "      <td>...</td>\n",
       "      <td>...</td>\n",
       "    </tr>\n",
       "    <tr>\n",
       "      <th>111115</th>\n",
       "      <td>111115</td>\n",
       "      <td>7206</td>\n",
       "      <td>-1109.601|10.914761|0.11700305|-10.697|-0.494|...</td>\n",
       "    </tr>\n",
       "    <tr>\n",
       "      <th>111126</th>\n",
       "      <td>111126</td>\n",
       "      <td>7207</td>\n",
       "      <td>-1343.5138|10.797283|0.7212072|-8.721|-0.004|3...</td>\n",
       "    </tr>\n",
       "    <tr>\n",
       "      <th>111139</th>\n",
       "      <td>111139</td>\n",
       "      <td>7208</td>\n",
       "      <td>-1330.1488|10.801065|0.8778793|-8.788|-0.117|3...</td>\n",
       "    </tr>\n",
       "    <tr>\n",
       "      <th>111152</th>\n",
       "      <td>111152</td>\n",
       "      <td>7209</td>\n",
       "      <td>-1355.4856|10.69714|0.6099017|-8.657|-0.191|3....</td>\n",
       "    </tr>\n",
       "    <tr>\n",
       "      <th>111165</th>\n",
       "      <td>111165</td>\n",
       "      <td>7210</td>\n",
       "      <td>-1494.45|10.724342|0.7558085|-8.554|0.121|3.31...</td>\n",
       "    </tr>\n",
       "  </tbody>\n",
       "</table>\n",
       "<p>7211 rows × 3 columns</p>\n",
       "</div>"
      ],
      "text/plain": [
       "            id  graph_id                                              label\n",
       "0            0         0  -420.93375|39.694626|0.62184143|-16.013|4.162|...\n",
       "5            5         1  -718.4192|22.622486|0.62832844|-13.549|3.684|1...\n",
       "13          13         2  -570.02484|22.94067|0.7090596|-10.16|1.231|7.1...\n",
       "19          19         3  -410.28616|15.973799|2.2284796|-10.706|2.145|4...\n",
       "23          23         4  -868.8554|17.900517|0.5561737|-12.365|3.825|10...\n",
       "...        ...       ...                                                ...\n",
       "111115  111115      7206  -1109.601|10.914761|0.11700305|-10.697|-0.494|...\n",
       "111126  111126      7207  -1343.5138|10.797283|0.7212072|-8.721|-0.004|3...\n",
       "111139  111139      7208  -1330.1488|10.801065|0.8778793|-8.788|-0.117|3...\n",
       "111152  111152      7209  -1355.4856|10.69714|0.6099017|-8.657|-0.191|3....\n",
       "111165  111165      7210  -1494.45|10.724342|0.7558085|-8.554|0.121|3.31...\n",
       "\n",
       "[7211 rows x 3 columns]"
      ]
     },
     "execution_count": 5,
     "metadata": {},
     "output_type": "execute_result"
    }
   ],
   "source": [
    "print(verts_df.head())\n",
    "verts_df.loc[verts_df.label != '']"
   ]
  },
  {
   "cell_type": "code",
   "execution_count": 6,
   "metadata": {},
   "outputs": [
    {
     "name": "stdout",
     "output_type": "stream",
     "text": [
      "*******************************************************************************\n",
      "*                                                                             *\n",
      "*  This is a private computer system containing confidential information.     *\n",
      "*  Any unauthorized attempt to access or use this computer system or any      *\n",
      "*  information on it by employees or other persons may result in termination  *\n",
      "*  of employment, civil fines, and criminal penalties.  This system must be   *\n",
      "*  used for authorized business purposes only.                                *\n",
      "*                                                                             *\n",
      "*******************************************************************************\n",
      "QM7B_vertices.csv                             100% 2124KB   1.1MB/s   00:01    \n",
      "*******************************************************************************\n",
      "*                                                                             *\n",
      "*  This is a private computer system containing confidential information.     *\n",
      "*  Any unauthorized attempt to access or use this computer system or any      *\n",
      "*  information on it by employees or other persons may result in termination  *\n",
      "*  of employment, civil fines, and criminal penalties.  This system must be   *\n",
      "*  used for authorized business purposes only.                                *\n",
      "*                                                                             *\n",
      "*******************************************************************************\n",
      "QM7B_edges.csv                                100%   37MB   1.1MB/s   00:32    \n"
     ]
    }
   ],
   "source": [
    "!scp data/QM7B_vertices.csv vm_name:/path/to/data\n",
    "!scp data/QM7B_edges.csv vm_name:/path/to/data"
   ]
  },
  {
   "cell_type": "code",
   "execution_count": null,
   "metadata": {},
   "outputs": [],
   "source": []
  }
 ],
 "metadata": {
  "interpreter": {
   "hash": "b5008c0f40321de55b4533b3204b8c9e1db1e03ad498df365d90b32e22601ca2"
  },
  "kernelspec": {
   "display_name": "Python 3.9.10 64-bit",
   "name": "python3"
  },
  "language_info": {
   "codemirror_mode": {
    "name": "ipython",
    "version": 3
   },
   "file_extension": ".py",
   "mimetype": "text/x-python",
   "name": "python",
   "nbconvert_exporter": "python",
   "pygments_lexer": "ipython3",
   "version": "3.9.10"
  },
  "orig_nbformat": 4
 },
 "nbformat": 4,
 "nbformat_minor": 2
}
