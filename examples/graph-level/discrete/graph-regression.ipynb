{
 "cells": [
  {
   "cell_type": "code",
   "execution_count": 1,
   "metadata": {},
   "outputs": [],
   "source": [
    "from graph2gnn import Tiger2GNN\n",
    "import logging, json, os\n",
    "from tqdm import tqdm\n",
    "import numpy as np\n",
    "import pandas as pd\n",
    "from glob import glob\n",
    "from time import perf_counter\n",
    "from collections import defaultdict\n",
    "from tqdm import trange\n",
    "import requests as req\n",
    "import warnings\n",
    "warnings.filterwarnings(\"ignore\")\n",
    "which_label=1\n",
    "\n",
    "class QM7b2GNN(Tiger2GNN):\n",
    "\tdef __init__(self, **kwargs):\n",
    "\t\tsuper().__init__(**kwargs)\n",
    "\t\tself.num_nodes = 0\n",
    "\t\tself.labels = None\n",
    "\t\tself.classes = None\n",
    "\n",
    "\tdef compute_vectors(self):\n",
    "\t\tedges = pd.read_csv(f'{self.output_path}/edges.csv')\n",
    "\t\tedges = edges.groupby('graph_id')\n",
    "\t\tvectors = [] # list of (id, vector, label)\n",
    "\t\tnum_nodes = 0\n",
    "\t\t# For each vertex in the query's result set\n",
    "\t\tvert_types = [x for x in glob(f'{self.output_path}/*.json') if 'partition_' not in x]\n",
    "\t\tprint(vert_types)\n",
    "\t\tfor path in vert_types:\n",
    "\t\t\tvertex_list = json.load(open(path))\n",
    "\t\t\tvert_type = path.split('.json')[0].split('/')[1]\n",
    "\t\t\tfor vert in tqdm(vertex_list, desc=vert_type):\n",
    "\t\t\t\tgraph_id = vert['graph_id']\n",
    "\t\t\t\tnum_nodes += 1\n",
    "\t\t\t\tfeatures = edges.get_group(int(graph_id))\n",
    "\t\t\t\tfeatures = features.loc[(features.src == int(vert['id'])) | (features.tgt == int(vert['id']))].h.tolist()\n",
    "\t\t\t\tassert len(features) > 0\n",
    "\t\t\t\tlabel = vert['label'][which_label] if len(vert['label']) > 0 else None\n",
    "\t\t\t\tvectors.append([int(vert['id']), label, graph_id, features])\n",
    "\t\t\t\t\n",
    "\t\t\tself.num_nodes = num_nodes\n",
    "\n",
    "\t\t\t#fixme optimize storage space... don't write everything to a csv\n",
    "\t\t\tpd.DataFrame(vectors,columns=['id','label','graph_id', 'features']).to_csv(f'{self.output_path}/{vert_type}.csv', index=False)\n",
    "\n",
    "\tdef assemble_data(self):\n",
    "\t\t\"\"\"\n",
    "\t\tUnnecessary since there's only one vtype\n",
    "\t\t\"\"\"\n",
    "\t\t!cp tgresponse/AtomResult.csv tgresponse/vertices.csv\n",
    "\n",
    "with open('tkn.txt') as fin:\n",
    "\tlines = fin.readlines()\n",
    "\n",
    "tkn = lines[0] #restpp token\n",
    "host = lines[1] \n",
    "\n",
    "tg = QM7b2GNN(\n",
    "\thost=f'http://{host}',\n",
    "\tgraph_name='QM7b',\n",
    "\tquery='QM7bData',\n",
    "\ttoken=tkn,\n",
    "\tlog_level=logging.INFO\n",
    ")\n"
   ]
  },
  {
   "cell_type": "code",
   "execution_count": null,
   "metadata": {},
   "outputs": [],
   "source": [
    "tg.call_multi_graph_query(params={'total_partitions':10}, edge_features=['h'])\n",
    "tg.compute_vectors()"
   ]
  },
  {
   "cell_type": "code",
   "execution_count": 3,
   "metadata": {},
   "outputs": [
    {
     "data": {
      "image/png": "[encoded data removed]",
      "text/plain": [
       "<Figure size 432x288 with 1 Axes>"
      ]
     },
     "metadata": {
      "needs_background": "light"
     },
     "output_type": "display_data"
    }
   ],
   "source": [
    "from matplotlib import pyplot as plt\n",
    "import pandas as pd\n",
    "\n",
    "stats = pd.read_csv('tgresponse/AtomResult.csv')[['id','label']]\n",
    "ax = stats.label.plot.hist(rot=45)#, color=['r','g'])\n",
    "ax.bar_label(ax.containers[0])\n",
    "plt.show()\n",
    "\n",
    "tg.assemble_data()"
   ]
  },
  {
   "cell_type": "code",
   "execution_count": 4,
   "metadata": {},
   "outputs": [
    {
     "data": {
      "text/plain": [
       "array([[ 0.5    ,  2.89614,  0.29558,  0.29558,  0.29559,  0.29558,\n",
       "         0.29559,  2.89614,  0.29558],\n",
       "       [ 0.29558,  0.29558,  2.89612,  0.29558,  0.5    ,  0.29559,\n",
       "         0.29559,  2.89612,  0.29558],\n",
       "       [ 0.29559,  0.29559,  0.29559,  2.89608,  0.29559,  0.29559,\n",
       "         0.5    ,  2.89608,  0.29559],\n",
       "       [ 2.89614,  2.89612,  2.89608,  2.89614, 36.8581 ,  2.89612,\n",
       "         2.89612,  2.89608,  2.89612],\n",
       "       [ 0.29558,  0.29558,  0.29559,  2.89612,  0.29558,  2.89612,\n",
       "         0.29559,  0.5    ,  0.29558]], dtype=float32)"
      ]
     },
     "execution_count": 4,
     "metadata": {},
     "output_type": "execute_result"
    }
   ],
   "source": [
    "verts = pd.read_csv('tgresponse/vertices.csv').groupby('graph_id').get_group(0)\n",
    "f = [x.replace('[','').replace(']','').replace(',','').split() for x in verts.features.to_numpy()]\n",
    "np.array(f).astype(np.float32)"
   ]
  },
  {
   "cell_type": "code",
   "execution_count": 5,
   "metadata": {},
   "outputs": [],
   "source": [
    "#DATASET\n",
    "import dgl,torch\n",
    "from dgl.data import DGLDataset\n",
    "\n",
    "class QM7bDataset(DGLDataset):\n",
    "\tdef __init__(self, **kwargs):\n",
    "\t\tsuper().__init__(**kwargs)\n",
    "\n",
    "\tdef __getitem__(self, i):\n",
    "\t\treturn self.graphs[i], self.labels[i]\n",
    "\n",
    "\tdef __len__(self):\n",
    "\t\treturn len(self.graphs)\n",
    "\n",
    "\t@staticmethod\n",
    "\tdef mask_to_weights(mask):\n",
    "\t\t\treturn mask.astype(np.int8) / np.count_nonzero(mask) #todo what does the division do?\n",
    "\t\n",
    "\t@property\n",
    "\tdef num_classes(self):\n",
    "\t\t\treturn self._num_classes\n",
    "\t\t\t\n",
    "\tdef process(self):\n",
    "\t\tego_verts = pd.read_csv('tgresponse/vertices.csv').dropna()# get verts that hold the graph's label\n",
    "\t\tedges = pd.read_csv('tgresponse/edges.csv')\n",
    "\t\tself.graphs = []\n",
    "\t\tself.labels = []\n",
    "\n",
    "\t\t# Create a graph for each graph ID from the edges table.\n",
    "\t\t# First process the properties table into two dictionaries with graph IDs as keys.\n",
    "\t\t# The label and number of nodes are values.\n",
    "\t\tlabel_dict = {}\n",
    "\t\tfor _, row in tqdm(ego_verts.iterrows(), desc='building labels dict'):\n",
    "\t\t\tlabel_dict[row['graph_id']] = row['label']\n",
    "\t\t# For the edges, first group the table by graph IDs.\n",
    "\t\tedges_group = edges.groupby('graph_id')\n",
    "\t\tverts = pd.read_csv('tgresponse/vertices.csv').groupby('graph_id')\n",
    "\n",
    "\t\t# For each graph ID...\n",
    "\t\tfor graph_id in tqdm(edges_group.groups, desc='assemble graphs'):\n",
    "\t\t\t# Find the edges as well as the number of nodes and its label.\n",
    "\t\t\tedges_of_id = edges_group.get_group(graph_id)\n",
    "\t\t\tdgl_id = {k:v for v,k in enumerate(np.unique(edges_of_id[['src','tgt']].to_numpy().flatten()))}\n",
    "\t\t\tedges_of_id['dgl_src'] = [dgl_id[i] for i in edges_of_id.src]\n",
    "\t\t\tedges_of_id['dgl_tgt'] = [dgl_id[i] for i in edges_of_id.tgt]\n",
    "\t\t\tsrc = edges_of_id['dgl_src'].to_numpy()\n",
    "\t\t\tdst = edges_of_id['dgl_tgt'].to_numpy()\n",
    "\t\t\tlabel = label_dict[graph_id]\n",
    "\n",
    "\t\t\t# Create a graph and add it to the list of graphs and labels.\n",
    "\t\t\tg = dgl.graph((src, dst), num_nodes=len(dgl_id.keys()))\n",
    "\t\t\tf = [x.replace('[','').replace(']','').replace(',','').split()[:5] for x in verts.get_group(graph_id).features.to_numpy()] # shortened to first five for the sake of the example\n",
    "\t\t\tassert all([len(x) == 5 for x in f])\n",
    "\t\t\tvertex_vectors = torch.from_numpy(np.array(f).astype(np.float32))\n",
    "\t\t\tg.ndata['x'] = vertex_vectors\n",
    "\t\t\t\t\t\n",
    "\t\t\tself.graphs.append(g)\n",
    "\t\t\tself.labels.append(label)\n",
    "\n",
    "\t\t# Convert the label list to tensor for saving.\n",
    "\t\tself.labels = torch.tensor(self.labels)"
   ]
  },
  {
   "cell_type": "code",
   "execution_count": 6,
   "metadata": {},
   "outputs": [
    {
     "name": "stderr",
     "output_type": "stream",
     "text": [
      "building labels dict: 7211it [00:00, 69817.93it/s]\n",
      "assemble graphs: 100%|██████████| 7211/7211 [00:05<00:00, 1280.72it/s]\n"
     ]
    },
    {
     "name": "stdout",
     "output_type": "stream",
     "text": [
      "tensor(39.6946)\n",
      "5\n",
      "{'x': tensor([[ 0.5000,  2.8961,  0.2956,  0.2956,  0.2956],\n",
      "        [ 0.2956,  0.2956,  2.8961,  0.2956,  0.5000],\n",
      "        [ 0.2956,  0.2956,  0.2956,  2.8961,  0.2956],\n",
      "        [ 2.8961,  2.8961,  2.8961,  2.8961, 36.8581],\n",
      "        [ 0.2956,  0.2956,  0.2956,  2.8961,  0.2956]])}\n"
     ]
    },
    {
     "data": {
      "image/png": "[encoded data removed]",
      "text/plain": [
       "<Figure size 432x288 with 1 Axes>"
      ]
     },
     "metadata": {},
     "output_type": "display_data"
    }
   ],
   "source": [
    "dataset = QM7bDataset(name='qm7b')\n",
    "g, l = dataset[0]\n",
    "print(l)\n",
    "print(len(g.ndata['x']))\n",
    "print(g.ndata)\n",
    "import networkx as nx\n",
    "nx.draw(g.to_networkx())"
   ]
  },
  {
   "cell_type": "code",
   "execution_count": 7,
   "metadata": {},
   "outputs": [
    {
     "data": {
      "text/plain": [
       "([Graph(num_nodes=1011, num_edges=16391,\n",
       "        ndata_schemes={'x': Scheme(shape=(5,), dtype=torch.float32)}\n",
       "        edata_schemes={}),\n",
       "  tensor([11.9605, 10.8820, 13.4902, 10.8093, 11.9436,  6.2418, 13.3099,  6.1217,\n",
       "          10.5464, 12.1520,  5.4356, 11.1596,  6.2142,  4.9817,  9.7066,  6.9585,\n",
       "           6.7619, 12.2804,  5.7693,  6.0730, 10.3281,  6.0868, 11.2457, 11.9168,\n",
       "           5.8796, 10.7043, 11.9300,  6.0618,  7.1222,  8.1092, 11.0069,  4.1850,\n",
       "           6.7275, 10.7365, 12.8729, 10.8061,  6.2038,  6.2246, 11.6893,  5.2409,\n",
       "          10.8515,  6.0221,  6.4399, 10.3091,  4.6065,  5.6875,  6.3326, 11.2987,\n",
       "           6.6212,  6.4393, 10.4603, 11.5596, 10.4650, 11.4587, 10.7091, 12.2154,\n",
       "           6.5319,  5.8778,  6.2536, 10.7931, 11.6818, 10.0966, 10.4344,  6.8347])],\n",
       " [Graph(num_nodes=927, num_edges=13759,\n",
       "        ndata_schemes={'x': Scheme(shape=(5,), dtype=torch.float32)}\n",
       "        edata_schemes={}),\n",
       "  tensor([ 6.2259, 10.7453, 11.0927,  5.3174, 10.8376,  6.5035,  4.7585, 12.2743,\n",
       "          11.0521,  5.2041, 10.9482,  8.2411, 13.4486, 11.8251, 10.5651,  6.1254,\n",
       "          10.8841, 10.6504,  6.2185, 11.9209, 11.4062,  4.4901,  5.7469, 10.6503,\n",
       "          10.1006,  6.6499,  8.5152,  6.4374,  5.2795,  6.1982, 12.6081, 11.6860,\n",
       "           6.3148, 10.6847, 11.5485, 11.0294, 12.1851, 10.7500, 10.8917,  5.6228,\n",
       "          11.3667, 10.4941, 11.0708,  6.2451,  4.0820,  3.9515,  7.0226, 11.1680,\n",
       "          12.2753,  6.2696, 11.6420,  6.7519,  6.6874, 12.2824,  5.2045,  9.8156,\n",
       "          11.0991, 12.0103, 10.8700,  9.4872, 11.7085, 12.8551, 12.1150,  5.5394])])"
      ]
     },
     "execution_count": 7,
     "metadata": {},
     "output_type": "execute_result"
    }
   ],
   "source": [
    "from dgl.dataloading import GraphDataLoader\n",
    "from torch.utils.data.sampler import SubsetRandomSampler\n",
    "\n",
    "num_examples = len(dataset)\n",
    "num_train = int(num_examples * 0.8)\n",
    "batch_size = 64\n",
    "\n",
    "train_sampler = SubsetRandomSampler(torch.arange(num_train))\n",
    "test_sampler = SubsetRandomSampler(torch.arange(num_train, num_examples))\n",
    "\n",
    "train_dataloader = GraphDataLoader(\n",
    "    dataset, sampler=train_sampler, batch_size=batch_size, drop_last=False)\n",
    "test_dataloader = GraphDataLoader(\n",
    "    dataset, sampler=test_sampler, batch_size=batch_size, drop_last=False)\n",
    "\n",
    "next(zip(train_dataloader,test_dataloader))"
   ]
  },
  {
   "cell_type": "code",
   "execution_count": 8,
   "metadata": {},
   "outputs": [],
   "source": [
    "import dgl.nn.pytorch as dglnn\n",
    "import torch.nn as nn\n",
    "import torch.nn.functional as F\n",
    "\n",
    "class qm7b_demo(nn.Module):\n",
    "    def __init__(self, in_dim, hidden_dim, n_classes):\n",
    "        super(qm7b_demo, self).__init__()\n",
    "        self.conv1 = dglnn.GraphConv(in_dim, hidden_dim)\n",
    "        self.conv2 = dglnn.GraphConv(hidden_dim, hidden_dim)\n",
    "        # dglnn.GATv2Conv\n",
    "        self.out = nn.Linear(hidden_dim, n_classes)\n",
    "\n",
    "    def forward(self, g, h):\n",
    "        # Apply graph convolution and activation.\n",
    "        h = F.dropout(h)\n",
    "        h = self.conv1(g, h)\n",
    "        h = F.leaky_relu(h)\n",
    "        h = F.dropout(h)\n",
    "        h = self.conv2(g, h)\n",
    "        h = F.leaky_relu(h)\n",
    "        \n",
    "        with g.local_scope():\n",
    "            g.ndata['x'] = h\n",
    "            # Calculate graph representation by average readout.\n",
    "            hg = dgl.mean_nodes(g, 'x')\n",
    "            return self.out(hg)"
   ]
  },
  {
   "cell_type": "code",
   "execution_count": 9,
   "metadata": {},
   "outputs": [
    {
     "name": "stderr",
     "output_type": "stream",
     "text": [
      "Epoch 0: 100%|██████████| 91/91 [00:00<00:00, 132.39batch/s, loss=73.9]\n",
      "Epoch 1: 100%|██████████| 91/91 [00:00<00:00, 184.54batch/s, loss=13.8]\n",
      "Epoch 2: 100%|██████████| 91/91 [00:00<00:00, 196.42batch/s, loss=5.52]\n",
      "Epoch 3: 100%|██████████| 91/91 [00:00<00:00, 173.56batch/s, loss=8.9] \n",
      "Epoch 4: 100%|██████████| 91/91 [00:00<00:00, 191.78batch/s, loss=6.41]\n",
      "Epoch 5: 100%|██████████| 91/91 [00:00<00:00, 193.17batch/s, loss=8.36]\n",
      "Epoch 6: 100%|██████████| 91/91 [00:00<00:00, 195.71batch/s, loss=7.29]\n",
      "Epoch 7: 100%|██████████| 91/91 [00:00<00:00, 199.51batch/s, loss=8.1] \n",
      "Epoch 8: 100%|██████████| 91/91 [00:00<00:00, 200.48batch/s, loss=8.98]\n",
      "Epoch 9: 100%|██████████| 91/91 [00:00<00:00, 200.26batch/s, loss=7.04]\n",
      "Epoch 10: 100%|██████████| 91/91 [00:00<00:00, 199.95batch/s, loss=8.13]\n",
      "Epoch 11: 100%|██████████| 91/91 [00:00<00:00, 196.39batch/s, loss=6.02]\n",
      "Epoch 12: 100%|██████████| 91/91 [00:00<00:00, 200.70batch/s, loss=5.39]\n",
      "Epoch 13: 100%|██████████| 91/91 [00:00<00:00, 198.59batch/s, loss=6.22]\n",
      "Epoch 14: 100%|██████████| 91/91 [00:00<00:00, 166.98batch/s, loss=6.54]\n",
      "Epoch 15: 100%|██████████| 91/91 [00:00<00:00, 194.36batch/s, loss=7.1] \n",
      "Epoch 16: 100%|██████████| 91/91 [00:00<00:00, 193.14batch/s, loss=5.84]\n",
      "Epoch 17: 100%|██████████| 91/91 [00:00<00:00, 190.82batch/s, loss=5.14]\n",
      "Epoch 18: 100%|██████████| 91/91 [00:00<00:00, 196.62batch/s, loss=9.56]\n",
      "Epoch 19: 100%|██████████| 91/91 [00:00<00:00, 188.93batch/s, loss=8.22]\n",
      "Epoch 20: 100%|██████████| 91/91 [00:00<00:00, 187.99batch/s, loss=12.9]\n",
      "Epoch 21: 100%|██████████| 91/91 [00:00<00:00, 196.17batch/s, loss=6.06]\n",
      "Epoch 22: 100%|██████████| 91/91 [00:00<00:00, 188.35batch/s, loss=6.4] \n",
      "Epoch 23: 100%|██████████| 91/91 [00:00<00:00, 180.58batch/s, loss=6.55]\n",
      "Epoch 24: 100%|██████████| 91/91 [00:00<00:00, 166.63batch/s, loss=6.92]\n",
      "Epoch 25: 100%|██████████| 91/91 [00:00<00:00, 175.31batch/s, loss=8.25]\n",
      "Epoch 26: 100%|██████████| 91/91 [00:00<00:00, 177.24batch/s, loss=7.93]\n",
      "Epoch 27: 100%|██████████| 91/91 [00:00<00:00, 186.89batch/s, loss=5.22]\n",
      "Epoch 28: 100%|██████████| 91/91 [00:00<00:00, 182.46batch/s, loss=7.96]\n",
      "Epoch 29: 100%|██████████| 91/91 [00:00<00:00, 177.41batch/s, loss=12.3]\n",
      "Epoch 30: 100%|██████████| 91/91 [00:00<00:00, 177.19batch/s, loss=6.44]\n",
      "Epoch 31: 100%|██████████| 91/91 [00:00<00:00, 172.08batch/s, loss=6.15]\n",
      "Epoch 32: 100%|██████████| 91/91 [00:00<00:00, 148.69batch/s, loss=7.89]\n",
      "Epoch 33: 100%|██████████| 91/91 [00:00<00:00, 176.17batch/s, loss=7.44]\n",
      "Epoch 34: 100%|██████████| 91/91 [00:00<00:00, 176.30batch/s, loss=5.42]\n",
      "Epoch 35: 100%|██████████| 91/91 [00:00<00:00, 176.32batch/s, loss=6.2] \n",
      "Epoch 36: 100%|██████████| 91/91 [00:00<00:00, 173.82batch/s, loss=5.97]\n",
      "Epoch 37: 100%|██████████| 91/91 [00:00<00:00, 175.05batch/s, loss=8.53]\n",
      "Epoch 38: 100%|██████████| 91/91 [00:00<00:00, 172.12batch/s, loss=6.01]\n",
      "Epoch 39: 100%|██████████| 91/91 [00:00<00:00, 177.53batch/s, loss=8.28]\n",
      "Epoch 40: 100%|██████████| 91/91 [00:00<00:00, 176.59batch/s, loss=9.96]\n",
      "Epoch 41: 100%|██████████| 91/91 [00:00<00:00, 176.27batch/s, loss=6.96]\n",
      "Epoch 42: 100%|██████████| 91/91 [00:00<00:00, 177.31batch/s, loss=6.91]\n",
      "Epoch 43: 100%|██████████| 91/91 [00:00<00:00, 175.48batch/s, loss=4.69]\n",
      "Epoch 44: 100%|██████████| 91/91 [00:00<00:00, 173.29batch/s, loss=7.7] \n",
      "Epoch 45: 100%|██████████| 91/91 [00:00<00:00, 177.17batch/s, loss=7.78]\n",
      "Epoch 46: 100%|██████████| 91/91 [00:00<00:00, 171.40batch/s, loss=7.99]\n",
      "Epoch 47: 100%|██████████| 91/91 [00:00<00:00, 175.60batch/s, loss=7.84]\n",
      "Epoch 48: 100%|██████████| 91/91 [00:00<00:00, 173.54batch/s, loss=5.3] \n",
      "Epoch 49: 100%|██████████| 91/91 [00:00<00:00, 176.62batch/s, loss=7.27]\n",
      "Epoch 50: 100%|██████████| 91/91 [00:00<00:00, 157.50batch/s, loss=7.12]\n",
      "Epoch 51: 100%|██████████| 91/91 [00:00<00:00, 176.06batch/s, loss=7.86]\n",
      "Epoch 52: 100%|██████████| 91/91 [00:00<00:00, 175.77batch/s, loss=8.33]\n",
      "Epoch 53: 100%|██████████| 91/91 [00:00<00:00, 177.46batch/s, loss=8.49]\n",
      "Epoch 54: 100%|██████████| 91/91 [00:00<00:00, 171.04batch/s, loss=6.58]\n",
      "Epoch 55: 100%|██████████| 91/91 [00:00<00:00, 175.26batch/s, loss=8.37]\n",
      "Epoch 56: 100%|██████████| 91/91 [00:00<00:00, 177.68batch/s, loss=8.89]\n",
      "Epoch 57: 100%|██████████| 91/91 [00:00<00:00, 175.47batch/s, loss=5.91]\n",
      "Epoch 58: 100%|██████████| 91/91 [00:00<00:00, 175.96batch/s, loss=7.21]\n",
      "Epoch 59: 100%|██████████| 91/91 [00:00<00:00, 168.29batch/s, loss=5.3] \n",
      "Epoch 60: 100%|██████████| 91/91 [00:00<00:00, 175.14batch/s, loss=130] \n",
      "Epoch 61: 100%|██████████| 91/91 [00:00<00:00, 175.27batch/s, loss=7.45]\n",
      "Epoch 62: 100%|██████████| 91/91 [00:00<00:00, 170.57batch/s, loss=8.18]\n",
      "Epoch 63: 100%|██████████| 91/91 [00:00<00:00, 177.80batch/s, loss=10.3]\n",
      "Epoch 64: 100%|██████████| 91/91 [00:00<00:00, 176.94batch/s, loss=6.09]\n",
      "Epoch 65: 100%|██████████| 91/91 [00:00<00:00, 177.99batch/s, loss=5.56]\n",
      "Epoch 66: 100%|██████████| 91/91 [00:00<00:00, 176.85batch/s, loss=8.32]\n",
      "Epoch 67: 100%|██████████| 91/91 [00:00<00:00, 157.33batch/s, loss=7.73]\n",
      "Epoch 68: 100%|██████████| 91/91 [00:00<00:00, 184.72batch/s, loss=7.41]\n",
      "Epoch 69: 100%|██████████| 91/91 [00:00<00:00, 178.37batch/s, loss=7.67]\n",
      "Epoch 70: 100%|██████████| 91/91 [00:00<00:00, 172.99batch/s, loss=7.84]\n",
      "Epoch 71: 100%|██████████| 91/91 [00:00<00:00, 176.63batch/s, loss=6.5] \n",
      "Epoch 72: 100%|██████████| 91/91 [00:00<00:00, 177.09batch/s, loss=8.14]\n",
      "Epoch 73: 100%|██████████| 91/91 [00:00<00:00, 173.14batch/s, loss=8.73]\n",
      "Epoch 74: 100%|██████████| 91/91 [00:00<00:00, 178.09batch/s, loss=4.96]\n",
      "Epoch 75: 100%|██████████| 91/91 [00:00<00:00, 179.52batch/s, loss=9.65]\n",
      "Epoch 76: 100%|██████████| 91/91 [00:00<00:00, 176.45batch/s, loss=3.5] \n",
      "Epoch 77: 100%|██████████| 91/91 [00:00<00:00, 173.97batch/s, loss=7.34]\n",
      "Epoch 78: 100%|██████████| 91/91 [00:00<00:00, 175.60batch/s, loss=5.24]\n",
      "Epoch 79: 100%|██████████| 91/91 [00:00<00:00, 176.98batch/s, loss=7.82]\n",
      "Epoch 80: 100%|██████████| 91/91 [00:00<00:00, 175.78batch/s, loss=4.33]\n",
      "Epoch 81: 100%|██████████| 91/91 [00:00<00:00, 176.48batch/s, loss=8.51]\n",
      "Epoch 82: 100%|██████████| 91/91 [00:00<00:00, 176.09batch/s, loss=6.98]\n",
      "Epoch 83: 100%|██████████| 91/91 [00:00<00:00, 174.90batch/s, loss=6]   \n",
      "Epoch 84: 100%|██████████| 91/91 [00:00<00:00, 174.93batch/s, loss=5.31]\n",
      "Epoch 85: 100%|██████████| 91/91 [00:00<00:00, 169.25batch/s, loss=3.61]\n",
      "Epoch 86: 100%|██████████| 91/91 [00:00<00:00, 152.34batch/s, loss=5.4] \n",
      "Epoch 87: 100%|██████████| 91/91 [00:00<00:00, 178.82batch/s, loss=6.49]\n",
      "Epoch 88: 100%|██████████| 91/91 [00:00<00:00, 174.92batch/s, loss=10.8]\n",
      "Epoch 89: 100%|██████████| 91/91 [00:00<00:00, 173.61batch/s, loss=3.32]\n",
      "Epoch 90: 100%|██████████| 91/91 [00:00<00:00, 176.16batch/s, loss=7.04]\n",
      "Epoch 91: 100%|██████████| 91/91 [00:00<00:00, 175.09batch/s, loss=4.71]\n",
      "Epoch 92: 100%|██████████| 91/91 [00:00<00:00, 174.58batch/s, loss=7.03]\n",
      "Epoch 93: 100%|██████████| 91/91 [00:00<00:00, 170.97batch/s, loss=7.18]\n",
      "Epoch 94: 100%|██████████| 91/91 [00:00<00:00, 177.97batch/s, loss=8.65]\n",
      "Epoch 95: 100%|██████████| 91/91 [00:00<00:00, 176.63batch/s, loss=4.09]\n",
      "Epoch 96: 100%|██████████| 91/91 [00:00<00:00, 176.67batch/s, loss=7.43]\n",
      "Epoch 97: 100%|██████████| 91/91 [00:00<00:00, 175.97batch/s, loss=10.7]\n",
      "Epoch 98: 100%|██████████| 91/91 [00:00<00:00, 175.41batch/s, loss=11.9]\n",
      "Epoch 99: 100%|██████████| 91/91 [00:00<00:00, 175.64batch/s, loss=7.41]\n"
     ]
    }
   ],
   "source": [
    "import numpy as np\n",
    "def train(tr_dataloader, test_dataloader, model):\n",
    "\tlearning_rate = 1e-2\n",
    "\n",
    "\toptimizer = torch.optim.Adam(model.parameters(), lr=learning_rate, weight_decay=1e-5)\n",
    "\n",
    "\thistory = []\n",
    "\tfor e in range(100):\n",
    "\t\tt = tqdm(tr_dataloader, unit='batch')\n",
    "\t\tt.desc = f'Epoch {e}'\n",
    "\t\tfor batched_graph, labels in t:\n",
    "\t\t\tfeatures = batched_graph.ndata['x']\n",
    "\t\t\t# Forward\n",
    "\t\t\ty_ = model(batched_graph, features)\n",
    "\t\t\tloss = F.mse_loss(y_, labels)\n",
    "\t\t\t# Backward\n",
    "\t\t\toptimizer.zero_grad()\n",
    "\t\t\tloss.backward()\n",
    "\t\t\toptimizer.step()\n",
    "\t\n",
    "\t\t\tt.set_postfix(loss=loss.item())\n",
    "\t\t\n",
    "\t\tfor batched_graph, labels in test_dataloader:\n",
    "\t\t\tfeatures = batched_graph.ndata['x']\n",
    "\t\t\ttesty_ = model(batched_graph, features)\n",
    "\t\t\ttest_loss = F.mse_loss(testy_, labels)\n",
    "\n",
    "\t\thistory.append([\n",
    "\t\t\t\tloss.item(),\n",
    "\t\t\t\ttest_loss.item()\n",
    "\t\t])\t\n",
    "\t\t\n",
    "\treturn history\n",
    "\n",
    "model = qm7b_demo(5, 20, 1)\n",
    "history = train(train_dataloader, test_dataloader, model)"
   ]
  },
  {
   "cell_type": "code",
   "execution_count": 10,
   "metadata": {},
   "outputs": [
    {
     "name": "stdout",
     "output_type": "stream",
     "text": [
      "loss         float64\n",
      "test_loss    float64\n",
      "dtype: object\n"
     ]
    },
    {
     "data": {
      "text/plain": [
       "<AxesSubplot:>"
      ]
     },
     "execution_count": 10,
     "metadata": {},
     "output_type": "execute_result"
    },
    {
     "data": {
      "image/png": "[encoded data removed]",
      "text/plain": [
       "<Figure size 432x288 with 1 Axes>"
      ]
     },
     "metadata": {
      "needs_background": "light"
     },
     "output_type": "display_data"
    }
   ],
   "source": [
    "import pandas as pd\n",
    "# df = pd.DataFrame(history, columns=['train_acc','val_acc','loss','val_loss', 'test_acc'])\n",
    "df = pd.DataFrame(history, columns=['loss','test_loss'])\n",
    "print(df.dtypes)\n",
    "df[['loss','test_loss']].plot()\n",
    "# df[['train_acc','val_acc','test_acc']].plot()"
   ]
  },
  {
   "cell_type": "code",
   "execution_count": 12,
   "metadata": {},
   "outputs": [
    {
     "data": {
      "text/html": [
       "<div>\n",
       "<style scoped>\n",
       "    .dataframe tbody tr th:only-of-type {\n",
       "        vertical-align: middle;\n",
       "    }\n",
       "\n",
       "    .dataframe tbody tr th {\n",
       "        vertical-align: top;\n",
       "    }\n",
       "\n",
       "    .dataframe thead th {\n",
       "        text-align: right;\n",
       "    }\n",
       "</style>\n",
       "<table border=\"1\" class=\"dataframe\">\n",
       "  <thead>\n",
       "    <tr style=\"text-align: right;\">\n",
       "      <th></th>\n",
       "      <th>y</th>\n",
       "      <th>y'</th>\n",
       "    </tr>\n",
       "  </thead>\n",
       "  <tbody>\n",
       "    <tr>\n",
       "      <th>0</th>\n",
       "      <td>5.69888</td>\n",
       "      <td>8.941153</td>\n",
       "    </tr>\n",
       "    <tr>\n",
       "      <th>1</th>\n",
       "      <td>10.64824</td>\n",
       "      <td>8.930571</td>\n",
       "    </tr>\n",
       "    <tr>\n",
       "      <th>2</th>\n",
       "      <td>11.29453</td>\n",
       "      <td>8.949226</td>\n",
       "    </tr>\n",
       "    <tr>\n",
       "      <th>3</th>\n",
       "      <td>8.18008</td>\n",
       "      <td>8.916250</td>\n",
       "    </tr>\n",
       "    <tr>\n",
       "      <th>4</th>\n",
       "      <td>6.50114</td>\n",
       "      <td>8.923170</td>\n",
       "    </tr>\n",
       "    <tr>\n",
       "      <th>...</th>\n",
       "      <td>...</td>\n",
       "      <td>...</td>\n",
       "    </tr>\n",
       "    <tr>\n",
       "      <th>1438</th>\n",
       "      <td>10.89779</td>\n",
       "      <td>8.990242</td>\n",
       "    </tr>\n",
       "    <tr>\n",
       "      <th>1439</th>\n",
       "      <td>11.84602</td>\n",
       "      <td>8.948336</td>\n",
       "    </tr>\n",
       "    <tr>\n",
       "      <th>1440</th>\n",
       "      <td>11.31095</td>\n",
       "      <td>8.943125</td>\n",
       "    </tr>\n",
       "    <tr>\n",
       "      <th>1441</th>\n",
       "      <td>4.75800</td>\n",
       "      <td>8.933208</td>\n",
       "    </tr>\n",
       "    <tr>\n",
       "      <th>1442</th>\n",
       "      <td>12.46612</td>\n",
       "      <td>8.932240</td>\n",
       "    </tr>\n",
       "  </tbody>\n",
       "</table>\n",
       "<p>1443 rows × 2 columns</p>\n",
       "</div>"
      ],
      "text/plain": [
       "             y        y'\n",
       "0      5.69888  8.941153\n",
       "1     10.64824  8.930571\n",
       "2     11.29453  8.949226\n",
       "3      8.18008  8.916250\n",
       "4      6.50114  8.923170\n",
       "...        ...       ...\n",
       "1438  10.89779  8.990242\n",
       "1439  11.84602  8.948336\n",
       "1440  11.31095  8.943125\n",
       "1441   4.75800  8.933208\n",
       "1442  12.46612  8.932240\n",
       "\n",
       "[1443 rows x 2 columns]"
      ]
     },
     "execution_count": 12,
     "metadata": {},
     "output_type": "execute_result"
    }
   ],
   "source": [
    "res = []\n",
    "for batched_graph, labels in test_dataloader:\n",
    "\tfeatures = batched_graph.ndata['x']\n",
    "\ttesty_ = model(batched_graph, features)\n",
    "\tfor l,lp in zip(labels.detach().numpy(),testy_.detach().numpy()):\n",
    "\t\tres.append([l,lp.item()])\n",
    "\n",
    "pd.DataFrame(res,columns=['y',\"y'\"])"
   ]
  },
  {
   "cell_type": "code",
   "execution_count": null,
   "metadata": {},
   "outputs": [],
   "source": []
  }
 ],
 "metadata": {
  "kernelspec": {
   "display_name": "Python 3.9.13 64-bit",
   "language": "python",
   "name": "python3"
  },
  "language_info": {
   "codemirror_mode": {
    "name": "ipython",
    "version": 3
   },
   "file_extension": ".py",
   "mimetype": "text/x-python",
   "name": "python",
   "nbconvert_exporter": "python",
   "pygments_lexer": "ipython3",
   "version": "3.9.13"
  },
  "orig_nbformat": 4,
  "vscode": {
   "interpreter": {
    "hash": "dbf23902112f63a418e5641bed0f2752948e7a39f6ebb907d1e9249d165f97b5"
   }
  }
 },
 "nbformat": 4,
 "nbformat_minor": 2
}
