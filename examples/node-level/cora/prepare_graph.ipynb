{
 "cells": [
  {
   "cell_type": "code",
   "execution_count": 1,
   "metadata": {},
   "outputs": [
    {
     "name": "stdout",
     "output_type": "stream",
     "text": [
      "(2708, 4)\n"
     ]
    },
    {
     "data": {
      "text/html": [
       "<div>\n",
       "<style scoped>\n",
       "    .dataframe tbody tr th:only-of-type {\n",
       "        vertical-align: middle;\n",
       "    }\n",
       "\n",
       "    .dataframe tbody tr th {\n",
       "        vertical-align: top;\n",
       "    }\n",
       "\n",
       "    .dataframe thead th {\n",
       "        text-align: right;\n",
       "    }\n",
       "</style>\n",
       "<table border=\"1\" class=\"dataframe\">\n",
       "  <thead>\n",
       "    <tr style=\"text-align: right;\">\n",
       "      <th></th>\n",
       "      <th>id</th>\n",
       "      <th>paper_id</th>\n",
       "      <th>label</th>\n",
       "      <th>features</th>\n",
       "    </tr>\n",
       "  </thead>\n",
       "  <tbody>\n",
       "    <tr>\n",
       "      <th>163</th>\n",
       "      <td>0</td>\n",
       "      <td>35</td>\n",
       "      <td>Genetic_Algorithms</td>\n",
       "      <td>0|0|0|0|0|0|0|0|0|0|0|0|0|0|0|0|0|0|0|1|0|0|0|...</td>\n",
       "    </tr>\n",
       "    <tr>\n",
       "      <th>168</th>\n",
       "      <td>1</td>\n",
       "      <td>40</td>\n",
       "      <td>Genetic_Algorithms</td>\n",
       "      <td>0|0|0|0|0|0|0|0|0|0|0|0|0|0|0|0|0|0|0|0|0|0|0|...</td>\n",
       "    </tr>\n",
       "    <tr>\n",
       "      <th>552</th>\n",
       "      <td>2</td>\n",
       "      <td>114</td>\n",
       "      <td>Reinforcement_Learning</td>\n",
       "      <td>0|0|0|0|0|0|0|1|0|0|0|0|0|0|0|0|0|0|0|0|0|0|0|...</td>\n",
       "    </tr>\n",
       "    <tr>\n",
       "      <th>1459</th>\n",
       "      <td>3</td>\n",
       "      <td>117</td>\n",
       "      <td>Reinforcement_Learning</td>\n",
       "      <td>0|0|0|0|0|0|0|0|0|0|0|0|0|0|0|0|0|0|0|0|0|0|0|...</td>\n",
       "    </tr>\n",
       "    <tr>\n",
       "      <th>554</th>\n",
       "      <td>4</td>\n",
       "      <td>128</td>\n",
       "      <td>Reinforcement_Learning</td>\n",
       "      <td>0|1|0|0|0|0|0|0|0|0|0|0|0|0|0|0|0|0|0|0|0|0|0|...</td>\n",
       "    </tr>\n",
       "  </tbody>\n",
       "</table>\n",
       "</div>"
      ],
      "text/plain": [
       "      id  paper_id                   label  \\\n",
       "163    0        35      Genetic_Algorithms   \n",
       "168    1        40      Genetic_Algorithms   \n",
       "552    2       114  Reinforcement_Learning   \n",
       "1459   3       117  Reinforcement_Learning   \n",
       "554    4       128  Reinforcement_Learning   \n",
       "\n",
       "                                               features  \n",
       "163   0|0|0|0|0|0|0|0|0|0|0|0|0|0|0|0|0|0|0|1|0|0|0|...  \n",
       "168   0|0|0|0|0|0|0|0|0|0|0|0|0|0|0|0|0|0|0|0|0|0|0|...  \n",
       "552   0|0|0|0|0|0|0|1|0|0|0|0|0|0|0|0|0|0|0|0|0|0|0|...  \n",
       "1459  0|0|0|0|0|0|0|0|0|0|0|0|0|0|0|0|0|0|0|0|0|0|0|...  \n",
       "554   0|1|0|0|0|0|0|0|0|0|0|0|0|0|0|0|0|0|0|0|0|0|0|...  "
      ]
     },
     "execution_count": 1,
     "metadata": {},
     "output_type": "execute_result"
    }
   ],
   "source": [
    "import pandas as pd\n",
    "df = pd.read_csv('data/content.csv', sep='\\t', header=None)\n",
    "df = df.rename(columns={0:'id',1434:'label'})\n",
    "cols = df.columns.tolist()\n",
    "df = df[[cols[0],cols[-1]]+ cols[1:-1]]\n",
    "features = ['|'.join(str(y) for y in x) for x in df[df.columns.tolist()[2:]].to_numpy()]\n",
    "for x in features:\n",
    "\tif len(x.split('|')) != 1433:\n",
    "\t\tprint(len(x.split('|')))\n",
    "\t\traise Exception\n",
    "\n",
    "df['features'] = features\n",
    "\n",
    "df = df[['id','label','features']]\n",
    "\n",
    "df['paper_id'] = df['id']\n",
    "df = df.sort_values(by='id')\n",
    "df = df[['id','paper_id','label','features']]\n",
    "df['id'] = [i for i in range(df.shape[0])]\n",
    "df.to_csv('data/Cora_vertices.csv', index=False)\n",
    "print(df.shape)\n",
    "df.head()"
   ]
  },
  {
   "cell_type": "code",
   "execution_count": 2,
   "metadata": {},
   "outputs": [
    {
     "data": {
      "text/html": [
       "<div>\n",
       "<style scoped>\n",
       "    .dataframe tbody tr th:only-of-type {\n",
       "        vertical-align: middle;\n",
       "    }\n",
       "\n",
       "    .dataframe tbody tr th {\n",
       "        vertical-align: top;\n",
       "    }\n",
       "\n",
       "    .dataframe thead th {\n",
       "        text-align: right;\n",
       "    }\n",
       "</style>\n",
       "<table border=\"1\" class=\"dataframe\">\n",
       "  <thead>\n",
       "    <tr style=\"text-align: right;\">\n",
       "      <th></th>\n",
       "      <th>src</th>\n",
       "      <th>tgt</th>\n",
       "      <th>p_src</th>\n",
       "      <th>p_tgt</th>\n",
       "    </tr>\n",
       "  </thead>\n",
       "  <tbody>\n",
       "    <tr>\n",
       "      <th>0</th>\n",
       "      <td>21</td>\n",
       "      <td>0</td>\n",
       "      <td>1033</td>\n",
       "      <td>35</td>\n",
       "    </tr>\n",
       "    <tr>\n",
       "      <th>1</th>\n",
       "      <td>905</td>\n",
       "      <td>0</td>\n",
       "      <td>103482</td>\n",
       "      <td>35</td>\n",
       "    </tr>\n",
       "    <tr>\n",
       "      <th>2</th>\n",
       "      <td>906</td>\n",
       "      <td>0</td>\n",
       "      <td>103515</td>\n",
       "      <td>35</td>\n",
       "    </tr>\n",
       "    <tr>\n",
       "      <th>3</th>\n",
       "      <td>1909</td>\n",
       "      <td>0</td>\n",
       "      <td>1050679</td>\n",
       "      <td>35</td>\n",
       "    </tr>\n",
       "    <tr>\n",
       "      <th>4</th>\n",
       "      <td>1940</td>\n",
       "      <td>0</td>\n",
       "      <td>1103960</td>\n",
       "      <td>35</td>\n",
       "    </tr>\n",
       "  </tbody>\n",
       "</table>\n",
       "</div>"
      ],
      "text/plain": [
       "    src  tgt    p_src  p_tgt\n",
       "0    21    0     1033     35\n",
       "1   905    0   103482     35\n",
       "2   906    0   103515     35\n",
       "3  1909    0  1050679     35\n",
       "4  1940    0  1103960     35"
      ]
     },
     "execution_count": 2,
     "metadata": {},
     "output_type": "execute_result"
    }
   ],
   "source": [
    "import pandas as pd\n",
    "edges = pd.read_csv('data/cites.csv', sep='\\t', header=None)\n",
    "edges = edges.rename(columns={0:'p_tgt',1:'p_src'})\n",
    "src = []\n",
    "tgt = []\n",
    "for i in edges.to_numpy():\n",
    "\ttgt.append(df.loc[df.paper_id == i[0]]['id'].tolist()[0])\n",
    "\tsrc.append(df.loc[df.paper_id ==i[1]]['id'].tolist()[0])\n",
    "edges['src'] = src\n",
    "edges['tgt'] = tgt\n",
    "edges = edges[['src','tgt','p_src','p_tgt']]\n",
    "edges.to_csv('data/Cora_edges.csv',index=False)\n",
    "edges.loc[edges.tgt == 0].head()"
   ]
  },
  {
   "cell_type": "code",
   "execution_count": 4,
   "metadata": {},
   "outputs": [
    {
     "name": "stdout",
     "output_type": "stream",
     "text": [
      "*******************************************************************************\n",
      "*                                                                             *\n",
      "*  This is a private computer system containing confidential information.     *\n",
      "*  Any unauthorized attempt to access or use this computer system or any      *\n",
      "*  information on it by employees or other persons may result in termination  *\n",
      "*  of employment, civil fines, and criminal penalties.  This system must be   *\n",
      "*  used for authorized business purposes only.                                *\n",
      "*                                                                             *\n",
      "*******************************************************************************\n",
      "Cora_vertices.csv                             100% 7652KB 999.3KB/s   00:07    \n",
      "*******************************************************************************\n",
      "*                                                                             *\n",
      "*  This is a private computer system containing confidential information.     *\n",
      "*  Any unauthorized attempt to access or use this computer system or any      *\n",
      "*  information on it by employees or other persons may result in termination  *\n",
      "*  of employment, civil fines, and criminal penalties.  This system must be   *\n",
      "*  used for authorized business purposes only.                                *\n",
      "*                                                                             *\n",
      "*******************************************************************************\n",
      "Cora_edges.csv                                100%  114KB 415.7KB/s   00:00    \n"
     ]
    }
   ],
   "source": [
    "!scp data/Cora_vertices.csv vm_name:/path/to/data\n",
    "!scp data/Cora_edges.csv vm_name:/path/to/data"
   ]
  },
  {
   "cell_type": "code",
   "execution_count": null,
   "metadata": {},
   "outputs": [],
   "source": []
  }
 ],
 "metadata": {
  "interpreter": {
   "hash": "b5008c0f40321de55b4533b3204b8c9e1db1e03ad498df365d90b32e22601ca2"
  },
  "kernelspec": {
   "display_name": "Python 3.9.10 64-bit",
   "name": "python3"
  },
  "language_info": {
   "codemirror_mode": {
    "name": "ipython",
    "version": 3
   },
   "file_extension": ".py",
   "mimetype": "text/x-python",
   "name": "python",
   "nbconvert_exporter": "python",
   "pygments_lexer": "ipython3",
   "version": "3.9.10"
  },
  "orig_nbformat": 4
 },
 "nbformat": 4,
 "nbformat_minor": 2
}
